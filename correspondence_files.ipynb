{
 "cells": [
  {
   "cell_type": "code",
   "execution_count": 36,
   "metadata": {},
   "outputs": [],
   "source": [
    "import os \n",
    "import glob \n",
    "import numpy as np \n",
    "from natsort import natsorted\n",
    "import cv2"
   ]
  },
  {
   "cell_type": "code",
   "execution_count": 3,
   "metadata": {},
   "outputs": [],
   "source": [
    "directory = \"/home/parikshat/MyWorkings/Masters/Semester_2/3d_vision/Project/Stage_1_Data_ver._3/stage1/box/correspondences\""
   ]
  },
  {
   "cell_type": "code",
   "execution_count": 4,
   "metadata": {},
   "outputs": [],
   "source": [
    "files = natsorted(glob.glob(f\"{directory}/*\"))"
   ]
  },
  {
   "cell_type": "code",
   "execution_count": 5,
   "metadata": {},
   "outputs": [],
   "source": [
    "f = files[0]"
   ]
  },
  {
   "cell_type": "code",
   "execution_count": 11,
   "metadata": {},
   "outputs": [
    {
     "data": {
      "text/plain": [
       "['/home/parikshat/MyWorkings/Masters/Semester_2/3d_vision/Project/Stage_1_Data_ver._3/stage1/box/correspondences/0_2.txt',\n",
       " '/home/parikshat/MyWorkings/Masters/Semester_2/3d_vision/Project/Stage_1_Data_ver._3/stage1/box/correspondences/0_22.txt']"
      ]
     },
     "execution_count": 11,
     "metadata": {},
     "output_type": "execute_result"
    }
   ],
   "source": [
    "temp = [files[0], files[8]]\n",
    "temp"
   ]
  },
  {
   "cell_type": "code",
   "execution_count": 46,
   "metadata": {},
   "outputs": [],
   "source": [
    "imgs = natsorted(os.listdir(\"/home/parikshat/MyWorkings/Masters/Semester_2/3d_vision/Project/Stage_1_Data_ver._3/stage1/box/images\"))\n",
    "images_index = dict()\n",
    "N_images = len(imgs)\n",
    "\n",
    "visibility = np.empty((0,N_images))\n",
    "points     = np.empty((0,N_images, 2))\n",
    "colors     = np.empty((0,3), dtype= np.uint8)\n",
    "\n",
    "for i,image in enumerate(imgs):\n",
    "\n",
    "    images_index[int(image[:-4])] = i\n",
    "\n",
    "\n",
    "for f in files:\n",
    "    \n",
    "    img1, img2 = [int(x) for x in f.split(\"/\")[-1][:-4].split(\"_\")]\n",
    "    \n",
    "    img1_index = images_index[img1]\n",
    "    image_one = cv2.imread(os.path.join(\"/home/parikshat/MyWorkings/Masters/Semester_2/3d_vision/Project/Stage_1_Data_ver._3/stage1/box/images\",imgs[img1_index]))\n",
    "    image_one = cv2.cvtColor(image_one, cv2.COLOR_BGR2RGB)\n",
    "\n",
    "    img2_index = images_index[img2]\n",
    "    data = np.loadtxt(f)\n",
    "    _, indices = np.unique(data, axis = 0, return_index= True)\n",
    "    data = data[np.sort(indices)]\n",
    "    img1_points = np.fliplr(data[:,:2])\n",
    "    img2_points = np.fliplr(data[:,2:])\n",
    "\n",
    "\n",
    "    if visibility.shape[0] != 0:\n",
    "        \n",
    "        new_points    = []\n",
    "        new_keypoints = []\n",
    "        new_colors    = []\n",
    "        \n",
    "        previous_points = points[:,img1_index,:]\n",
    "        for p in range(img1_points.shape[0]):\n",
    "\n",
    "            index = (img1_points[p] == previous_points).all(axis = 1).nonzero()[0]\n",
    "            if not (len(index) > 0):\n",
    "                v_new = np.zeros((1, N_images))\n",
    "                v_new[0,img1_index] = 1\n",
    "                v_new[0,img2_index] = 1\n",
    "                k_new = np.zeros((1, N_images,2))\n",
    "                k_new[0,img1_index,:] = img1_points[p]\n",
    "                k_new[0,img2_index,:] = img2_points[p]\n",
    "                \n",
    "                new_points.append(v_new)\n",
    "                new_keypoints.append(k_new)\n",
    "                new_colors.append(image_one[int(img1_points[p,0]),int(img1_points[p,1])])\n",
    "            \n",
    "            else:\n",
    "                index = index[0]\n",
    "                visibility[index, img2_index] = 1\n",
    "                points[index, img2_index, :] = img2_points[p]\n",
    "\n",
    "        if len(new_points) > 0:\n",
    "            new_points    = np.concatenate(new_points)\n",
    "            new_keypoints = np.concatenate(new_keypoints)\n",
    "            new_colors    = np.concatenate(new_colors)\n",
    "            visibility = np.vstack([visibility, new_points])\n",
    "            points     = np.vstack([points, new_keypoints])\n",
    "\n",
    "\n",
    "\n",
    "    else:\n",
    "        new_keypoints = np.zeros((data.shape[0], N_images, 2))\n",
    "        new_points    = np.zeros((data.shape[0], N_images))\n",
    "\n",
    "        new_points[:,img1_index] = 1\n",
    "        new_points[:,img2_index] = 1\n",
    "    \n",
    "        new_keypoints[:,img1_index,:] = img1_points \n",
    "        new_keypoints[:,img2_index,:] = img2_points\n",
    "\n",
    "        image_coords = img1_points.astype(np.int32)\n",
    "        colors_new = image_one[image_coords[:,0],image_coords[:,1]]\n",
    "        \n",
    "        visibility = np.vstack([visibility, new_points])\n",
    "        points     = np.vstack([points, new_keypoints])\n",
    "        colors     = np.vstack([colors, colors_new])\n",
    "        \n",
    "\n",
    "    \n",
    "\n",
    "\n",
    "    \n",
    "    \n",
    "\n",
    "    \n",
    "\n",
    "\n",
    "        "
   ]
  },
  {
   "cell_type": "code",
   "execution_count": 47,
   "metadata": {},
   "outputs": [
    {
     "data": {
      "text/plain": [
       "(484744, 3)"
      ]
     },
     "execution_count": 47,
     "metadata": {},
     "output_type": "execute_result"
    }
   ],
   "source": [
    "colors.shape"
   ]
  },
  {
   "cell_type": "code",
   "execution_count": 31,
   "metadata": {},
   "outputs": [
    {
     "data": {
      "text/plain": [
       "(476, 50, 2)"
      ]
     },
     "execution_count": 31,
     "metadata": {},
     "output_type": "execute_result"
    }
   ],
   "source": [
    "points.shape"
   ]
  },
  {
   "cell_type": "code",
   "execution_count": null,
   "metadata": {},
   "outputs": [],
   "source": [
    "a = np.array([[1,2],[3,4],[10,11],[1,2]])"
   ]
  },
  {
   "cell_type": "code",
   "execution_count": null,
   "metadata": {},
   "outputs": [],
   "source": [
    "np.unique(a, axis = 0)"
   ]
  },
  {
   "cell_type": "code",
   "execution_count": null,
   "metadata": {},
   "outputs": [],
   "source": [
    "np.unique(keypoints, axis = 0).shape"
   ]
  },
  {
   "cell_type": "code",
   "execution_count": null,
   "metadata": {},
   "outputs": [],
   "source": [
    "pts1 = np.loadtxt(\"/home/parikshat/MyWorkings/Masters/Semester_2/3d_vision/Project/Stage_1_Data_ver._3/stage1/boot/correspondences/0_2.txt\")\n",
    "pts2 = np.loadtxt(\"/home/parikshat/MyWorkings/Masters/Semester_2/3d_vision/Project/Stage_1_Data_ver._3/stage1/boot/correspondences/0_14.txt\")\n"
   ]
  },
  {
   "cell_type": "code",
   "execution_count": null,
   "metadata": {},
   "outputs": [],
   "source": [
    "pts1 = np.unique(pts1, axis = 0)\n",
    "pts2 = np.unique(pts2, axis = 0)"
   ]
  },
  {
   "cell_type": "code",
   "execution_count": null,
   "metadata": {},
   "outputs": [],
   "source": [
    "pts_1 = pts1[:,:2]\n",
    "pts_2 = pts2[:,:2]"
   ]
  },
  {
   "cell_type": "code",
   "execution_count": null,
   "metadata": {},
   "outputs": [],
   "source": [
    "for p in range(pts_2.shape[0]):\n",
    "\n",
    "    index = (pts_2[p] == pts_1).all(axis = 1).nonzero()[0]\n",
    "\n",
    "    if  (len(index) > 0):\n",
    "        print(p, index)"
   ]
  },
  {
   "cell_type": "code",
   "execution_count": null,
   "metadata": {},
   "outputs": [],
   "source": [
    "pts_2[0]"
   ]
  },
  {
   "cell_type": "code",
   "execution_count": null,
   "metadata": {},
   "outputs": [],
   "source": [
    "pts_1[0]"
   ]
  },
  {
   "cell_type": "code",
   "execution_count": null,
   "metadata": {},
   "outputs": [],
   "source": [
    "pts_2.shape"
   ]
  },
  {
   "cell_type": "code",
   "execution_count": null,
   "metadata": {},
   "outputs": [],
   "source": [
    "np.unique(points, axis = 0).shape"
   ]
  },
  {
   "cell_type": "code",
   "execution_count": null,
   "metadata": {},
   "outputs": [],
   "source": [
    "np.isin(pts_2, pts_1)"
   ]
  },
  {
   "cell_type": "code",
   "execution_count": null,
   "metadata": {},
   "outputs": [],
   "source": [
    "indices = np.sort(uniq_ind)"
   ]
  },
  {
   "cell_type": "code",
   "execution_count": null,
   "metadata": {},
   "outputs": [],
   "source": [
    "pts_1 = pts1[indices, :2]\n",
    "pts_2 = pts1[indices, 2:]"
   ]
  },
  {
   "cell_type": "code",
   "execution_count": null,
   "metadata": {},
   "outputs": [],
   "source": [
    "pts_1.shape"
   ]
  },
  {
   "cell_type": "code",
   "execution_count": null,
   "metadata": {},
   "outputs": [],
   "source": [
    "pts_2.shape"
   ]
  },
  {
   "cell_type": "code",
   "execution_count": null,
   "metadata": {},
   "outputs": [],
   "source": [
    "pts_1"
   ]
  },
  {
   "cell_type": "code",
   "execution_count": null,
   "metadata": {},
   "outputs": [],
   "source": [
    "pts_2"
   ]
  },
  {
   "cell_type": "code",
   "execution_count": null,
   "metadata": {},
   "outputs": [],
   "source": []
  }
 ],
 "metadata": {
  "kernelspec": {
   "display_name": "dl_pytorch",
   "language": "python",
   "name": "python3"
  },
  "language_info": {
   "codemirror_mode": {
    "name": "ipython",
    "version": 3
   },
   "file_extension": ".py",
   "mimetype": "text/x-python",
   "name": "python",
   "nbconvert_exporter": "python",
   "pygments_lexer": "ipython3",
   "version": "3.8.0"
  }
 },
 "nbformat": 4,
 "nbformat_minor": 2
}
