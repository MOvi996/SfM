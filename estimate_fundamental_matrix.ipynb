{
 "cells": [
  {
   "cell_type": "code",
   "execution_count": 3,
   "metadata": {},
   "outputs": [],
   "source": [
    "import cv2\n",
    "import numpy as np\n",
    "import os \n",
    "import glob"
   ]
  },
  {
   "cell_type": "code",
   "execution_count": 18,
   "metadata": {},
   "outputs": [],
   "source": [
    "def to_homogeneous(points_2d):\n",
    "\n",
    "    return np.hstack([points_2d, np.ones((points_2d.shape[0],1))])\n",
    "\n",
    "\n",
    "def compute_normalization_transform_2D(homogeneous_2D):\n",
    "\n",
    "    centroid, scale = np.mean(homogeneous_2D[:,:2], axis = 0), np.std(homogeneous_2D[:,:2])\n",
    "    scale = np.sqrt(2) / scale\n",
    "\n",
    "    transformation = np.array([[scale,0, -(scale*centroid[0])],[0, scale, -(scale*centroid[1])], [0,0,1]])\n",
    "    return transformation\n",
    "\n",
    "def apply_K_inv(K_inv, homogenous_points):\n",
    "    return np.dot(K_inv, homogenous_points.T).T\n",
    "\n",
    "def normalize_points(transform, homogenous_points):\n",
    "    return np.dot(transform, homogenous_points.T).T\n",
    "\n",
    "def estimate_fundamental_matrix(x_prime, x):\n",
    "\n",
    "    x_prime_homogeneous = to_homogeneous(x_prime)\n",
    "    x_homogeneous       = to_homogeneous(x)\n",
    "\n",
    "    \n",
    "    transform_x_prime = compute_normalization_transform_2D(x_prime_homogeneous)\n",
    "    transform_x       = compute_normalization_transform_2D(x_homogeneous)\n",
    "\n",
    "    x_prime_camera_norm = normalize_points(transform_x_prime, x_prime_homogeneous)\n",
    "    x_camera_norm = normalize_points(transform_x, x_homogeneous)\n",
    "    N_points = x_prime.shape[0]\n",
    "    A = np.zeros((N_points, 9))\n",
    "\n",
    "    for p in range(N_points):\n",
    "        A[p,:] = np.kron(x_prime_camera_norm[p], x_camera_norm[p])\n",
    "    \n",
    "    U,S,Vh = np.linalg.svd(A)\n",
    "    F_norm = Vh[-1].reshape(3,3)\n",
    "    Uf, Sf, Vf = np.linalg.svd(F_norm)\n",
    "    Sf[-1] = 0\n",
    "    F_norm_corrected = Uf @ np.diag(Sf) @ Vf\n",
    "    F_norm_corrected = F_norm_corrected / F_norm_corrected[2,2]\n",
    "\n",
    "    F = np.matmul(transform_x_prime.T, np.matmul(F_norm_corrected, transform_x))\n",
    "\n",
    "    return F / F[2,2]    \n",
    "\n",
    "def estimateEssentialFromFundamental(fundamental, k):\n",
    "\n",
    "    E = np.matmul(k.T, np.matmul(fundamental,k))\n",
    "    U,S,V = np.linalg.svd(E)\n",
    "    E_estimated = U @ np.diag([1,1,0]) @ V\n",
    "\n",
    "    return E_estimated / E_estimated[2,2]\n",
    "\n",
    "def estimate_essential_matrix(x_prime, x, K):\n",
    "\n",
    "    x_prime_homogeneous = to_homogeneous(x_prime)\n",
    "    x_homogeneous       = to_homogeneous(x)\n",
    "\n",
    "    K_inv = np.linalg.inv(K)\n",
    "    x_prime_camera = apply_K_inv(K_inv, x_prime_homogeneous)\n",
    "    x_camera       = apply_K_inv(K_inv, x_homogeneous)\n",
    "\n",
    "    transform_x_prime = compute_normalization_transform_2D(x_prime_camera)\n",
    "    transform_x       = compute_normalization_transform_2D(x_camera)\n",
    "\n",
    "    x_prime_camera_norm = normalize_points(transform_x_prime, x_prime_camera)\n",
    "    x_camera_norm = normalize_points(transform_x, x_camera)\n",
    "    \n",
    "    N_points = x_prime.shape[0]\n",
    "    A = np.zeros((N_points, 9))\n",
    "\n",
    "    for p in range(N_points):\n",
    "        A[p,:] = np.kron(x_prime_camera_norm[p], x_camera_norm[p])\n",
    "    \n",
    "    U,S,Vh = np.linalg.svd(A)\n",
    "    E_norm = Vh[-1].reshape(3,3)\n",
    "\n",
    "    Ue, Se, Ve = np.linalg.svd(E_norm)\n",
    "    Se = [1, 1, 0]\n",
    "\n",
    "    E_norm_corrected = Ue @ np.diag(Se) @ Ve\n",
    "    E_norm_corrected = E_norm_corrected / E_norm_corrected[2,2]\n",
    "\n",
    "    E = np.matmul(transform_x_prime.T, np.matmul(E_norm_corrected, transform_x))\n",
    "\n",
    "    return E / E[2,2]    \n",
    "\n",
    "\n",
    "def decomposeEssentialMat(E):\n",
    "\n",
    "    U,S,V = np.linalg.svd(E)\n",
    "\n",
    "    W = np.array([[0, -1, 0], [1, 0, 0], [0, 0, 1]])\n",
    "\n",
    "    t1, t2 = U[:,2], -U[:,2]\n",
    "    R1 = np.matmul(U, np.matmul(W,V))\n",
    "    R2 = np.matmul(U, np.matmul(W.T, V))\n",
    "\n",
    "    # Four possible decompositions\n",
    "    rotations = []\n",
    "    translations = []\n",
    "\n",
    "    if np.linalg.det(R1) < 0:\n",
    "\n",
    "        rotations.append(-R1)\n",
    "        rotations.append(-R1)\n",
    "\n",
    "        translations.append(-t1)\n",
    "        translations.append(-t2)\n",
    "    else:\n",
    "        rotations.append(R1)\n",
    "        rotations.append(R1)\n",
    "\n",
    "        translations.append(t1)\n",
    "        translations.append(t2)\n",
    "\n",
    "    if np.linalg.det(R2) < 0:\n",
    "\n",
    "        rotations.append(-R2)\n",
    "        rotations.append(-R2)\n",
    "\n",
    "        translations.append(-t1)\n",
    "        translations.append(-t2)\n",
    "    else:\n",
    "        rotations.append(R2)\n",
    "        rotations.append(R2)\n",
    "\n",
    "        translations.append(t1)\n",
    "        translations.append(t2)\n",
    "\n",
    "    return rotations, translations\n",
    "\n",
    "def computeProjectionMatrix(K,R,t):\n",
    "\n",
    "    extrinsic = np.zeros((3,4))\n",
    "    extrinsic[:,:3] = R\n",
    "    extrinsic[:,3]  = t\n",
    "\n",
    "    print(extrinsic)\n",
    "\n",
    "    return np.matmul(K, extrinsic)\n",
    "\n"
   ]
  },
  {
   "cell_type": "code",
   "execution_count": 5,
   "metadata": {},
   "outputs": [],
   "source": [
    "correspondence_file = \"/home/parikshat/MyWorkings/Masters/Semester_2/3d_vision/Project/Stage_1_Data_ver._2/stage1/boot/correspondences/0_2.txt\"\n",
    "correspondences = np.loadtxt(correspondence_file)"
   ]
  },
  {
   "cell_type": "code",
   "execution_count": 6,
   "metadata": {},
   "outputs": [],
   "source": [
    "import json \n",
    "with open('/home/parikshat/MyWorkings/Masters/Semester_2/3d_vision/Project/Stage_1_Data_ver._2/stage1/boot/camera_parameters.json') as json_data:\n",
    "    camera_parameters = json.load(json_data)\n",
    "    json_data.close()\n",
    "    "
   ]
  },
  {
   "cell_type": "code",
   "execution_count": 7,
   "metadata": {},
   "outputs": [],
   "source": [
    "K     = np.array(camera_parameters['intrinsics'])\n",
    "K_inv = np.linalg.inv(K) "
   ]
  },
  {
   "cell_type": "code",
   "execution_count": 8,
   "metadata": {},
   "outputs": [],
   "source": [
    "pts1 = correspondences[:,:2]\n",
    "pts2 = correspondences[:,2:]"
   ]
  },
  {
   "cell_type": "code",
   "execution_count": 12,
   "metadata": {},
   "outputs": [],
   "source": [
    "random_8_points = np.random.choice(pts1.shape[0], 8)\n",
    "\n",
    "x_prime = pts1[random_8_points]\n",
    "x       = pts2[random_8_points]"
   ]
  },
  {
   "cell_type": "code",
   "execution_count": 221,
   "metadata": {},
   "outputs": [],
   "source": [
    "fundamental_estimated = estimate_fundamental_matrix(x_prime,x, )"
   ]
  },
  {
   "cell_type": "code",
   "execution_count": 222,
   "metadata": {},
   "outputs": [
    {
     "data": {
      "text/plain": [
       "array([[-2.04351419e-06, -2.72221285e-05,  3.22568114e-03],\n",
       "       [ 3.19569503e-05,  7.53778010e-06, -1.36955431e-02],\n",
       "       [-3.03961599e-03,  2.72712507e-03,  1.00000000e+00]])"
      ]
     },
     "execution_count": 222,
     "metadata": {},
     "output_type": "execute_result"
    }
   ],
   "source": [
    "fundamental_estimated"
   ]
  },
  {
   "cell_type": "code",
   "execution_count": 223,
   "metadata": {},
   "outputs": [],
   "source": [
    "E = np.matmul(K.T, np.matmul(fundamental_estimated, K))"
   ]
  },
  {
   "cell_type": "code",
   "execution_count": 224,
   "metadata": {},
   "outputs": [
    {
     "data": {
      "text/plain": [
       "array([[  0.89276225,  11.89269382,   6.31914537],\n",
       "       [-13.96122369,  -3.293075  ,  -9.90174938],\n",
       "       [ -5.76385699,   9.09383939,   1.        ]])"
      ]
     },
     "execution_count": 224,
     "metadata": {},
     "output_type": "execute_result"
    }
   ],
   "source": [
    "E / E[2,2]"
   ]
  },
  {
   "cell_type": "code",
   "execution_count": 9,
   "metadata": {},
   "outputs": [],
   "source": [
    "x_prime_homo = to_homogeneous(pts1)\n",
    "x_homo       = to_homogeneous(pts2)\n",
    "x_p_cam = apply_K_inv(K_inv, x_prime_homo)\n",
    "x_cam   = apply_K_inv(K_inv, x_homo)\n",
    "N_points = pts1.shape[0]"
   ]
  },
  {
   "cell_type": "code",
   "execution_count": 10,
   "metadata": {},
   "outputs": [],
   "source": [
    "best = None\n",
    "best_criterion = 0\n",
    "for i in range(1000):\n",
    "\n",
    "    points = np.random.choice(N_points,8, replace= False)\n",
    "    \n",
    "    f_matrix = estimateEssentialFromFundamental(estimate_fundamental_matrix(pts1[points], pts2[points]),K)\n",
    "    criterion = np.sum(np.abs((x_p_cam.T * (f_matrix @ x_cam.T)).sum(axis = 0)) < 0.001)\n",
    "\n",
    "    if criterion > best_criterion:\n",
    "        best_criterion = criterion\n",
    "        best = f_matrix"
   ]
  },
  {
   "cell_type": "code",
   "execution_count": 20,
   "metadata": {},
   "outputs": [],
   "source": [
    "rotations, translations = decomposeEssentialMat(f_matrix)"
   ]
  },
  {
   "cell_type": "code",
   "execution_count": 21,
   "metadata": {},
   "outputs": [
    {
     "data": {
      "text/plain": [
       "[array([0.16269119, 0.16157188, 0.97335816]),\n",
       " array([-0.16269119, -0.16157188, -0.97335816]),\n",
       " array([0.16269119, 0.16157188, 0.97335816]),\n",
       " array([-0.16269119, -0.16157188, -0.97335816])]"
      ]
     },
     "execution_count": 21,
     "metadata": {},
     "output_type": "execute_result"
    }
   ],
   "source": [
    "translations"
   ]
  },
  {
   "cell_type": "code",
   "execution_count": null,
   "metadata": {},
   "outputs": [],
   "source": []
  }
 ],
 "metadata": {
  "kernelspec": {
   "display_name": "dl_pytorch",
   "language": "python",
   "name": "python3"
  },
  "language_info": {
   "codemirror_mode": {
    "name": "ipython",
    "version": 3
   },
   "file_extension": ".py",
   "mimetype": "text/x-python",
   "name": "python",
   "nbconvert_exporter": "python",
   "pygments_lexer": "ipython3",
   "version": "3.8.0"
  }
 },
 "nbformat": 4,
 "nbformat_minor": 2
}
