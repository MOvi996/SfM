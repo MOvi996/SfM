{
 "cells": [
  {
   "cell_type": "code",
   "execution_count": 1,
   "metadata": {},
   "outputs": [],
   "source": [
    "from dataloader import Dataset\n",
    "from utils import * \n",
    "\n",
    "data = Dataset(\"Stage_1_Data_ver._3/stage1/box\")\n",
    "data.load_data()\n",
    "\n",
    "visibility = data.visibility"
   ]
  },
  {
   "cell_type": "code",
   "execution_count": 2,
   "metadata": {},
   "outputs": [],
   "source": [
    "images_to_add, appended_ids = data.computeSceneGraph()"
   ]
  },
  {
   "cell_type": "code",
   "execution_count": 123,
   "metadata": {},
   "outputs": [],
   "source": [
    "\n",
    "indices    = np.logical_and(visibility[:,appended_ids[0]], visibility[:,appended_ids[1]])\n",
    "pts1, pts2 = data.points[indices, appended_ids[0]], data.points[indices, appended_ids[1]]\n",
    "E, best_criterion = estimate_essential_matrix(pts1, pts2, data.K)\n",
    "rotations, translations = extract_cam_pose(E, data.K)\n",
    "rot, trans = decomposeEssentialMat(E)\n",
    "points_3d = []\n",
    "for i in range(4):\n",
    "    P1 = computeProjectionMatrix(data.K, np.identity(3), np.zeros((3,)))\n",
    "    P2 = computeProjectionMatrix(data.K, rotations[i], translations[i])\n",
    "    points_3d.append(linearTriangulation(pts1, pts2, P1, P2))\n",
    "\n",
    "X,R,C = cheiralityCondition(points_3d, rotations, translations)\n",
    "\n",
    "X_reconstructed   = np.zeros((data.points.shape[0], 3))\n",
    "reconstructed_ind = np.zeros((data.points.shape[0], 1))\n",
    "\n",
    "X_reconstructed[indices] = X\n",
    "reconstructed_ind[(X_reconstructed[:,2] > 0)] = 1\n",
    "\n",
    "camera_rotations    = []\n",
    "camera_translations = []\n",
    "camera_rotations.append(np.eye(3))\n",
    "camera_rotations.append(R)\n",
    "camera_translations.append(np.zeros((3,)))\n",
    "camera_translations.append(C)\n"
   ]
  },
  {
   "cell_type": "code",
   "execution_count": 124,
   "metadata": {},
   "outputs": [
    {
     "data": {
      "text/plain": [
       "-5061.461029505171"
      ]
     },
     "execution_count": 124,
     "metadata": {},
     "output_type": "execute_result"
    }
   ],
   "source": [
    "X.min()"
   ]
  },
  {
   "cell_type": "code",
   "execution_count": 125,
   "metadata": {},
   "outputs": [
    {
     "name": "stdout",
     "output_type": "stream",
     "text": [
      "(12613, 1) (12613, 1) (12613,) [False False False ... False False False]\n"
     ]
    }
   ],
   "source": [
    "for next_image in range(2, 3):\n",
    "\n",
    "    visibility_points = data.visibility[:, appended_ids[next_image]][...,None]\n",
    "    new_points        = data.points[:,appended_ids[next_image]]\n",
    "    indices           = np.logical_and(reconstructed_ind, visibility_points)[:,0]\n",
    "\n",
    "    X_new       = X_reconstructed[indices]\n",
    "    corr_points = new_points[indices]\n",
    "\n",
    "    R_new, C_new = DLT_PnP(corr_points, X_new, data.K)\n",
    "\n",
    "    camera_rotations.append(R_new)\n",
    "    camera_translations.append(C_new)\n",
    "    overlap = []\n",
    "    for previous_images in range(next_image):\n",
    "        \n",
    "        indices = np.logical_and(np.logical_and(visibility[:,appended_ids[previous_images]][...,None], \n",
    "                                                visibility[:,appended_ids[next_image]][...,None]), 1 - reconstructed_ind)[:,0]\n",
    "        overlap.append(np.logical_and(visibility[:,appended_ids[previous_images]][...,None],visibility[:,appended_ids[next_image]][...,None]))\n",
    "        pts1, pts2 = data.points[indices, appended_ids[previous_images]], data.points[indices, appended_ids[next_image]]\n",
    "        P1 = computeProjectionMatrix(data.K, camera_rotations[previous_images], camera_translations[previous_images])\n",
    "        P2 = computeProjectionMatrix(data.K, R_new, C_new)\n",
    "        points_3d = linearTriangulation(pts1, pts2, P1, P2)\n",
    "        X_reconstructed[indices]   = points_3d\n",
    "        reconstructed_ind[indices] = 1\n",
    "    \n",
    "    break\n",
    "    reconstructed_ind[(X_reconstructed[:,2] <0)] = 0\n",
    "    \n",
    "    \n",
    "\n",
    "    "
   ]
  },
  {
   "cell_type": "code",
   "execution_count": 132,
   "metadata": {},
   "outputs": [],
   "source": [
    "def getObservationsIndexAndVizMat(X_found, filtered_feature_flag, nCam, appended_ids):\n",
    "    # find the 3d points such that they are visible in either of the cameras < nCam\n",
    "    bin_temp = np.zeros((filtered_feature_flag.shape[0]), dtype = int)\n",
    "    for n in range(nCam + 1):\n",
    "        bin_temp = np.logical_or(bin_temp,  filtered_feature_flag[:,appended_ids[n]])\n",
    "    \n",
    "\n",
    "    X_index = np.where(np.logical_and(X_found.reshape(-1) , (bin_temp)))\n",
    "    visiblity_matrix = X_found[X_index].reshape(-1,1)\n",
    "    for n in range(nCam + 1):\n",
    "        visiblity_matrix = np.hstack((visiblity_matrix, filtered_feature_flag[X_index, appended_ids[n]].reshape(-1,1)))\n",
    "\n",
    "    o, c = visiblity_matrix.shape\n",
    "    return X_index, visiblity_matrix[:, 1:c]"
   ]
  },
  {
   "cell_type": "code",
   "execution_count": 133,
   "metadata": {},
   "outputs": [],
   "source": [
    "ind, viz = getObservationsIndexAndVizMat(reconstructed_ind, visibility, 2, appended_ids)"
   ]
  },
  {
   "cell_type": "code",
   "execution_count": 157,
   "metadata": {},
   "outputs": [],
   "source": [
    "def computeCurrentVisibility(visibility, reconstructed_ind, number_of_views, appended_ids):\n",
    "\n",
    "    X_indices = (reconstructed_ind == 1)[:,0]\n",
    "    current_visibility = visibility[:,appended_ids[:number_of_views]][X_indices]\n",
    "    \n",
    "    return X_indices, current_visibility\n",
    "\n",
    "# def computeCurrent2DPoints(X_indices, points_2d, appended_ids):\n",
    "\n",
    "    \n",
    "    "
   ]
  },
  {
   "cell_type": "code",
   "execution_count": 156,
   "metadata": {},
   "outputs": [],
   "source": [
    "def get2DPoints(X_index, visiblity_matrix, feature_x, appended_ids):\n",
    "    pts2D = []\n",
    "    visible_feature_x = feature_x[X_index]\n",
    "    h, w = visiblity_matrix.shape\n",
    "    for i in range(h):\n",
    "        for j in range(w):\n",
    "            if visiblity_matrix[i,j] == 1:\n",
    "                pt = np.hstack((visible_feature_x[i,j,0], visible_feature_x[i,j,1]))\n",
    "                pts2D.append(pt)\n",
    "    return np.array(pts2D).reshape(-1, 2) "
   ]
  },
  {
   "cell_type": "code",
   "execution_count": null,
   "metadata": {},
   "outputs": [],
   "source": []
  },
  {
   "cell_type": "code",
   "execution_count": 158,
   "metadata": {},
   "outputs": [],
   "source": [
    "X_indices, current_visibility = computeCurrentVisibility(visibility, reconstructed_ind, 3, appended_ids)"
   ]
  },
  {
   "cell_type": "code",
   "execution_count": 159,
   "metadata": {},
   "outputs": [],
   "source": [
    "current_2d_points = get2DPoints(X_indices, current_visibility, data.points, appended_ids)"
   ]
  },
  {
   "cell_type": "code",
   "execution_count": 137,
   "metadata": {},
   "outputs": [
    {
     "ename": "IndexError",
     "evalue": "shape mismatch: indexing arrays could not be broadcast together with shapes (1638,) (3,) ",
     "output_type": "error",
     "traceback": [
      "\u001b[0;31m---------------------------------------------------------------------------\u001b[0m",
      "\u001b[0;31mIndexError\u001b[0m                                Traceback (most recent call last)",
      "Cell \u001b[0;32mIn[137], line 2\u001b[0m\n\u001b[1;32m      1\u001b[0m X_indices \u001b[38;5;241m=\u001b[39m (reconstructed_ind \u001b[38;5;241m==\u001b[39m \u001b[38;5;241m1\u001b[39m)[:,\u001b[38;5;241m0\u001b[39m]\n\u001b[0;32m----> 2\u001b[0m current_visibility \u001b[38;5;241m=\u001b[39m \u001b[43mvisibility\u001b[49m\u001b[43m[\u001b[49m\u001b[43mX_indices\u001b[49m\u001b[43m,\u001b[49m\u001b[43m \u001b[49m\u001b[43mappended_ids\u001b[49m\u001b[43m[\u001b[49m\u001b[43m:\u001b[49m\u001b[38;5;241;43m3\u001b[39;49m\u001b[43m]\u001b[49m\u001b[43m]\u001b[49m \n",
      "\u001b[0;31mIndexError\u001b[0m: shape mismatch: indexing arrays could not be broadcast together with shapes (1638,) (3,) "
     ]
    }
   ],
   "source": [
    "X_indices = (reconstructed_ind == 1)[:,0]\n",
    "current_visibility = visibility[X_indices, appended_ids[:3]] "
   ]
  },
  {
   "cell_type": "code",
   "execution_count": 150,
   "metadata": {},
   "outputs": [
    {
     "data": {
      "text/plain": [
       "array([1426., 1351., 1386.])"
      ]
     },
     "execution_count": 150,
     "metadata": {},
     "output_type": "execute_result"
    }
   ],
   "source": []
  },
  {
   "cell_type": "code",
   "execution_count": 88,
   "metadata": {},
   "outputs": [
    {
     "data": {
      "text/plain": [
       "1390"
      ]
     },
     "execution_count": 88,
     "metadata": {},
     "output_type": "execute_result"
    }
   ],
   "source": [
    "np.logical_or(overlap[1][:,0],initial).sum()\n"
   ]
  },
  {
   "cell_type": "code",
   "execution_count": 122,
   "metadata": {},
   "outputs": [
    {
     "data": {
      "text/plain": [
       "324.0"
      ]
     },
     "execution_count": 122,
     "metadata": {},
     "output_type": "execute_result"
    }
   ],
   "source": [
    "viz"
   ]
  },
  {
   "cell_type": "code",
   "execution_count": 95,
   "metadata": {},
   "outputs": [
    {
     "data": {
      "text/plain": [
       "(12613, 3)"
      ]
     },
     "execution_count": 95,
     "metadata": {},
     "output_type": "execute_result"
    }
   ],
   "source": [
    "current_visibility.shape"
   ]
  },
  {
   "cell_type": "code",
   "execution_count": 40,
   "metadata": {},
   "outputs": [
    {
     "data": {
      "text/plain": [
       "array([1953., 2055., 1892.])"
      ]
     },
     "execution_count": 40,
     "metadata": {},
     "output_type": "execute_result"
    }
   ],
   "source": [
    "visibility[:,appended_ids[:3]].sum(axis= 0 )"
   ]
  },
  {
   "cell_type": "code",
   "execution_count": 47,
   "metadata": {},
   "outputs": [
    {
     "data": {
      "text/plain": [
       "(12613, 3)"
      ]
     },
     "execution_count": 47,
     "metadata": {},
     "output_type": "execute_result"
    }
   ],
   "source": [
    "current_visibility.shape"
   ]
  },
  {
   "cell_type": "code",
   "execution_count": 98,
   "metadata": {},
   "outputs": [
    {
     "data": {
      "text/plain": [
       "(1677,)"
      ]
     },
     "execution_count": 98,
     "metadata": {},
     "output_type": "execute_result"
    }
   ],
   "source": [
    "ind[0].shape"
   ]
  },
  {
   "cell_type": "code",
   "execution_count": 119,
   "metadata": {},
   "outputs": [
    {
     "data": {
      "text/plain": [
       "1465.0"
      ]
     },
     "execution_count": 119,
     "metadata": {},
     "output_type": "execute_result"
    }
   ],
   "source": [
    "visibility[reconstructed_ind[:,0] == 1, appended_ids[0]].sum()"
   ]
  },
  {
   "cell_type": "code",
   "execution_count": 100,
   "metadata": {},
   "outputs": [],
   "source": [
    "A = lil_matrix(3,4)"
   ]
  },
  {
   "cell_type": "code",
   "execution_count": 101,
   "metadata": {},
   "outputs": [
    {
     "data": {
      "text/plain": [
       "<1x1 sparse matrix of type '<class 'numpy.int64'>'\n",
       "\twith 1 stored elements in List of Lists format>"
      ]
     },
     "execution_count": 101,
     "metadata": {},
     "output_type": "execute_result"
    }
   ],
   "source": [
    "A"
   ]
  },
  {
   "cell_type": "code",
   "execution_count": null,
   "metadata": {},
   "outputs": [],
   "source": []
  }
 ],
 "metadata": {
  "kernelspec": {
   "display_name": "dl_pytorch",
   "language": "python",
   "name": "python3"
  },
  "language_info": {
   "codemirror_mode": {
    "name": "ipython",
    "version": 3
   },
   "file_extension": ".py",
   "mimetype": "text/x-python",
   "name": "python",
   "nbconvert_exporter": "python",
   "pygments_lexer": "ipython3",
   "version": "3.8.0"
  }
 },
 "nbformat": 4,
 "nbformat_minor": 2
}
