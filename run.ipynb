{
 "cells": [
  {
   "cell_type": "code",
   "execution_count": 1,
   "metadata": {},
   "outputs": [],
   "source": [
    "from dataloader import Dataset\n",
    "from utils import * \n",
    "\n",
    "data = Dataset(\"Stage_1_Data_ver_4/stage1/box\")\n",
    "data.load_data()"
   ]
  },
  {
   "cell_type": "code",
   "execution_count": 2,
   "metadata": {},
   "outputs": [],
   "source": [
    "camera_visibility = data.visibility_new.any(axis = 1).astype(np.float64)"
   ]
  },
  {
   "cell_type": "code",
   "execution_count": 3,
   "metadata": {},
   "outputs": [],
   "source": [
    "images_to_add = data.images\n",
    "appended_ids = np.arange(data.N_images)\n",
    "\n"
   ]
  },
  {
   "cell_type": "code",
   "execution_count": 4,
   "metadata": {},
   "outputs": [],
   "source": [
    "from scipy.spatial.transform import Rotation \n",
    "from scipy.sparse import lil_matrix\n",
    "import time\n",
    "from scipy.optimize import least_squares\n",
    "def computeCurrentVisibility(visibility, reconstructed_ind, num_views, appended_ids):\n",
    "\n",
    "    X_indices = (reconstructed_ind == 1)[:,0]\n",
    "    current_visibility = visibility[:,appended_ids[:num_views]][X_indices]\n",
    "    \n",
    "    return X_indices, current_visibility\n",
    "\n",
    "def computeCurrent2DPoints(X_indices, points_2d, appended_ids, current_visibility):\n",
    "    \n",
    "    current_2d_points = points_2d[:, appended_ids[:current_visibility.shape[1]]][X_indices]\n",
    "    point_indices, camera_indices = current_visibility.nonzero()\n",
    "    return current_2d_points[point_indices, camera_indices], point_indices, camera_indices\n",
    "    \n",
    "def projectFromCameras(X, cam_params, camera_indices, point_indices, K):\n",
    "\n",
    "    projected = np.zeros((X.shape[0], cam_params.shape[0], 3))\n",
    "\n",
    "    for camera in range(cam_params.shape[0]):\n",
    "\n",
    "        R = Rotation.from_rotvec(cam_params[camera,:3]).as_matrix()\n",
    "        C = cam_params[camera, 3:]\n",
    "        P = computeProjectionMatrix(K, R, C)\n",
    "        \n",
    "        projected[:, camera] = projectPoint(P, X)\n",
    "\n",
    "    return projected[point_indices, camera_indices][:,:2]\n",
    "\n",
    "def objective(x0, num_views, n_points, camera_indices, point_indices, points_2d, K):\n",
    "    \n",
    "    camera_params = x0[:num_views * 6].reshape((num_views, 6))\n",
    "    points_3d = x0[num_views * 6:].reshape((n_points, 3))\n",
    "    points_proj = projectFromCameras(points_3d, camera_params,camera_indices,point_indices,K)\n",
    "    error_vec = (points_proj - points_2d).ravel()\n",
    "\n",
    "    return error_vec\n",
    "\n",
    "def bundle_adjustment_sparsity(num_views, n_points, camera_indices, point_indices):\n",
    "    m = camera_indices.size * 2\n",
    "    n = num_views * 6 + n_points * 3\n",
    "    A = lil_matrix((m, n), dtype=int)\n",
    "\n",
    "    i = np.arange(camera_indices.size)\n",
    "    for s in range(6):\n",
    "        A[2 * i, camera_indices * 6 + s] = 1\n",
    "        A[2 * i + 1, camera_indices * 6 + s] = 1\n",
    "\n",
    "    for s in range(3):\n",
    "        A[2 * i, num_views * 6 + point_indices * 3 + s] = 1\n",
    "        A[2 * i + 1, num_views * 6 + point_indices * 3 + s] = 1\n",
    "\n",
    "    return A\n",
    "\n",
    "def bundleAdjustment(X_reconstructed, reconstructed_ind, points_2d, visibility, camera_rotations, camera_translations, K, num_views, appended_ids):\n",
    "    \n",
    "    X_indices, current_visibility = computeCurrentVisibility(visibility, reconstructed_ind, num_views, appended_ids)\n",
    "    X_3d = X_reconstructed[X_indices]\n",
    "    n_points = X_3d.shape[0]\n",
    "    X_2d,point_indices, camera_indices = computeCurrent2DPoints(X_indices, points_2d, appended_ids, current_visibility)\n",
    "\n",
    "    cam_param_list = []\n",
    "    for i in range(num_views):\n",
    "        R, C = camera_rotations[i], camera_translations[i]\n",
    "        rotvec = Rotation.from_matrix(R).as_rotvec()\n",
    "        RC = [rotvec[0], rotvec[1], rotvec[2], C[0], C[1], C[2]]\n",
    "        cam_param_list.append(RC)\n",
    "\n",
    "    cam_param_list = np.array(cam_param_list).reshape(-1, 6)\n",
    "\n",
    "    x0 = np.hstack((cam_param_list.ravel(), X_3d.ravel()))\n",
    "\n",
    "    A = bundle_adjustment_sparsity(num_views,n_points, camera_indices, point_indices)\n",
    "    res = least_squares(objective, x0, jac_sparsity=A, verbose=0, x_scale='jac', max_nfev=50, method='trf',\n",
    "                        args=(num_views, n_points, camera_indices, point_indices,X_2d, K))\n",
    "    \n",
    "    optimized_params = res.x\n",
    "    optimized_RC = optimized_params[:num_views * 6].reshape((num_views, 6))\n",
    "    optimized_3d = optimized_params[num_views * 6:].reshape((n_points, 3))\n",
    "\n",
    "    optimized_X = np.zeros_like(X_reconstructed)\n",
    "    optimized_X[X_indices] = optimized_3d\n",
    "\n",
    "    optimized_camera_rotations, optimized_camera_translation = [], []\n",
    "    for i in range(len(optimized_RC)):\n",
    "        R = Rotation.from_rotvec(optimized_RC[i, :3]).as_matrix()\n",
    "        C = optimized_RC[i, 3:].reshape(3,1)\n",
    "        optimized_camera_translation.append(C)\n",
    "        optimized_camera_rotations.append(R)\n",
    "\n",
    "    return optimized_X, optimized_camera_rotations, optimized_camera_translation\n"
   ]
  },
  {
   "cell_type": "code",
   "execution_count": 13,
   "metadata": {},
   "outputs": [],
   "source": [
    "\n",
    "indices    = data.visibility_new[:,appended_ids[0], appended_ids[1]] == 1\n",
    "pts1, pts2 = data.points[indices, appended_ids[0]], data.points[indices, appended_ids[1]]\n",
    "E = estimateEssentialFromFundamental(estimate_fundamental_matrix(pts1, pts2), data.K)\n",
    "rotations, translations = decomposeEssentialMat(E)\n",
    "points_3d = []\n",
    "for i in range(4):\n",
    "    P1 = computeProjectionMatrix(data.K, np.identity(3), np.zeros((3,)))\n",
    "    P2 = computeProjectionMatrix(data.K, rotations[i], translations[i])\n",
    "    points_3d.append(linearTriangulation(pts1, pts2, P1, P2))\n",
    "\n",
    "X,R,C = cheiralityCondition(points_3d, rotations, translations)\n",
    "\n",
    "X_reconstructed   = np.zeros((data.points.shape[0], 3))\n",
    "reconstructed_ind = np.zeros((data.points.shape[0], 1))\n",
    "\n",
    "X_reconstructed[indices] = X\n",
    "reconstructed_ind[indices] = 1\n",
    "\n",
    "camera_rotations    = []\n",
    "camera_translations = []\n",
    "projection_matrix_extrinsic = []\n",
    "\n",
    "camera_rotations.append(np.eye(3))\n",
    "camera_rotations.append(R)\n",
    "\n",
    "camera_translations.append(np.zeros((3,)))\n",
    "camera_translations.append(C)\n",
    "\n",
    "projection_matrix_extrinsic.append(projectionMatrix4x4(computeProjectionMatrix(np.identity(3), camera_rotations[0], camera_translations[0])))\n",
    "projection_matrix_extrinsic.append(projectionMatrix4x4(computeProjectionMatrix(np.identity(3), camera_rotations[1], camera_translations[1])))\n",
    "\n"
   ]
  },
  {
   "cell_type": "code",
   "execution_count": 14,
   "metadata": {},
   "outputs": [
    {
     "name": "stdout",
     "output_type": "stream",
     "text": [
      "2\n",
      "3\n",
      "4\n",
      "5\n",
      "6\n",
      "7\n",
      "8\n",
      "9\n"
     ]
    }
   ],
   "source": [
    "\n",
    "for next_image in range(2, 10):\n",
    "    print(next_image)\n",
    "    visibility_points = data.visibility_new[:, appended_ids[next_image - 1], appended_ids[next_image]]\n",
    "    indices           = visibility_points == 1\n",
    "    pts1, pts2 = data.points[:, appended_ids[next_image -1]], data.points[:, appended_ids[next_image]]\n",
    "    E = estimateEssentialFromFundamental(estimate_fundamental_matrix(pts1[indices], pts2[indices]), data.K)\n",
    "    rs, ts = decomposeEssentialMat(E)\n",
    "\n",
    "\n",
    "    indices_new = np.logical_and((1 - reconstructed_ind)[:,0] , visibility_points)\n",
    "    points_3d = []\n",
    "    for i in range(4):\n",
    "        P1 = computeProjectionMatrix(data.K, np.identity(3), np.zeros((3,)))\n",
    "        P2 = computeProjectionMatrix(data.K, rs[i], ts[i])\n",
    "        points_3d.append(linearTriangulation(pts1[indices_new], pts2[indices_new], P1, P2))\n",
    "\n",
    "    X,R,C = cheiralityCondition(points_3d, rs, ts)\n",
    "\n",
    "    X_reconstructed[indices_new] = X\n",
    "    reconstructed_ind[indices_new] = 1\n",
    "    \n",
    "    relative_projection = projectionMatrix4x4(computeProjectionMatrix(np.identity(3),R,C))\n",
    "    absolute_RC = np.matmul(relative_projection, projection_matrix_extrinsic[next_image -1])\n",
    "    camera_rotations.append(absolute_RC[:3,:3])\n",
    "    camera_translations.append(np.matmul(- np.linalg.inv(absolute_RC[:3,:3]), absolute_RC[:-1,3].reshape(3,1)))\n",
    "    projection_matrix_extrinsic.append(absolute_RC)\n",
    "    initial = projection_matrix_extrinsic.copy()\n",
    "    for previous_images in range(next_image -1):\n",
    "    \n",
    "        visibility_points = data.visibility_new[:, appended_ids[previous_images], appended_ids[next_image]]\n",
    "        indices_new = np.logical_and((1 - reconstructed_ind)[:,0] , visibility_points)\n",
    "        pts1, pts2 = data.points[:, appended_ids[previous_images]], data.points[:, appended_ids[next_image]]\n",
    "        P1 = computeProjectionMatrix(data.K, camera_rotations[previous_images], camera_translations[previous_images])\n",
    "        P2 = computeProjectionMatrix(data.K, camera_rotations[next_image], camera_translations[next_image])\n",
    "        points_3d = linearTriangulation(pts1[indices_new], pts2[indices_new], P1, P2)\n",
    "        X_reconstructed[indices_new]   = points_3d\n",
    "        reconstructed_ind[indices_new] = 1\n",
    "\n",
    "    \n",
    "    \n",
    "    # X_reconstructed,camera_rotations,camera_translations = bundleAdjustment(X_reconstructed,reconstructed_ind,\n",
    "    #                                                                         data.points,camera_visibility,camera_rotations,\n",
    "    #                                                                         camera_translations, data.K, next_image +1, appended_ids)\n",
    "    \n",
    "    \n",
    "    # projection_matrix_extrinsic = []\n",
    "    # I_p = projectionMatrix4x4(computeProjectionMatrix(np.identity(3), camera_rotations[0], camera_translations[0]))\n",
    "    \n",
    "    # projection_matrix_extrinsic.append(I_p)\n",
    "    # projection_matrix_extrinsic.append(projectionMatrix4x4(computeProjectionMatrix(np.identity(3), camera_rotations[1], camera_translations[1])))\n",
    "\n",
    "    # for view in range(2, len(camera_rotations)):\n",
    "    #     current = projectionMatrix4x4(computeProjectionMatrix(np.identity(3), camera_rotations[view], camera_translations[view]))\n",
    "    #     projection_matrix_extrinsic.append(np.matmul(current, projection_matrix_extrinsic[view -1]))\n",
    "\n",
    "    "
   ]
  },
  {
   "cell_type": "code",
   "execution_count": 19,
   "metadata": {},
   "outputs": [
    {
     "name": "stdout",
     "output_type": "stream",
     "text": [
      "['/home/parikshat/MyWorkings/Masters/Semester_2/3d_vision/Project/Stage_1_Data_ver_4/stage1/box/correspondences/0_1.txt', '/home/parikshat/MyWorkings/Masters/Semester_2/3d_vision/Project/Stage_1_Data_ver_4/stage1/box/correspondences/1_2.txt', '/home/parikshat/MyWorkings/Masters/Semester_2/3d_vision/Project/Stage_1_Data_ver_4/stage1/box/correspondences/1_3.txt', '/home/parikshat/MyWorkings/Masters/Semester_2/3d_vision/Project/Stage_1_Data_ver_4/stage1/box/correspondences/2_3.txt', '/home/parikshat/MyWorkings/Masters/Semester_2/3d_vision/Project/Stage_1_Data_ver_4/stage1/box/correspondences/2_4.txt', '/home/parikshat/MyWorkings/Masters/Semester_2/3d_vision/Project/Stage_1_Data_ver_4/stage1/box/correspondences/3_4.txt', '/home/parikshat/MyWorkings/Masters/Semester_2/3d_vision/Project/Stage_1_Data_ver_4/stage1/box/correspondences/3_5.txt', '/home/parikshat/MyWorkings/Masters/Semester_2/3d_vision/Project/Stage_1_Data_ver_4/stage1/box/correspondences/4_5.txt', '/home/parikshat/MyWorkings/Masters/Semester_2/3d_vision/Project/Stage_1_Data_ver_4/stage1/box/correspondences/5_6.txt', '/home/parikshat/MyWorkings/Masters/Semester_2/3d_vision/Project/Stage_1_Data_ver_4/stage1/box/correspondences/5_7.txt', '/home/parikshat/MyWorkings/Masters/Semester_2/3d_vision/Project/Stage_1_Data_ver_4/stage1/box/correspondences/6_7.txt', '/home/parikshat/MyWorkings/Masters/Semester_2/3d_vision/Project/Stage_1_Data_ver_4/stage1/box/correspondences/6_8.txt', '/home/parikshat/MyWorkings/Masters/Semester_2/3d_vision/Project/Stage_1_Data_ver_4/stage1/box/correspondences/7_8.txt', '/home/parikshat/MyWorkings/Masters/Semester_2/3d_vision/Project/Stage_1_Data_ver_4/stage1/box/correspondences/7_9.txt', '/home/parikshat/MyWorkings/Masters/Semester_2/3d_vision/Project/Stage_1_Data_ver_4/stage1/box/correspondences/7_17.txt', '/home/parikshat/MyWorkings/Masters/Semester_2/3d_vision/Project/Stage_1_Data_ver_4/stage1/box/correspondences/7_29.txt', '/home/parikshat/MyWorkings/Masters/Semester_2/3d_vision/Project/Stage_1_Data_ver_4/stage1/box/correspondences/7_30.txt', '/home/parikshat/MyWorkings/Masters/Semester_2/3d_vision/Project/Stage_1_Data_ver_4/stage1/box/correspondences/7_31.txt', '/home/parikshat/MyWorkings/Masters/Semester_2/3d_vision/Project/Stage_1_Data_ver_4/stage1/box/correspondences/7_43.txt', '/home/parikshat/MyWorkings/Masters/Semester_2/3d_vision/Project/Stage_1_Data_ver_4/stage1/box/correspondences/7_44.txt', '/home/parikshat/MyWorkings/Masters/Semester_2/3d_vision/Project/Stage_1_Data_ver_4/stage1/box/correspondences/8_9.txt', '/home/parikshat/MyWorkings/Masters/Semester_2/3d_vision/Project/Stage_1_Data_ver_4/stage1/box/correspondences/8_10.txt', '/home/parikshat/MyWorkings/Masters/Semester_2/3d_vision/Project/Stage_1_Data_ver_4/stage1/box/correspondences/8_17.txt', '/home/parikshat/MyWorkings/Masters/Semester_2/3d_vision/Project/Stage_1_Data_ver_4/stage1/box/correspondences/8_19.txt', '/home/parikshat/MyWorkings/Masters/Semester_2/3d_vision/Project/Stage_1_Data_ver_4/stage1/box/correspondences/8_22.txt', '/home/parikshat/MyWorkings/Masters/Semester_2/3d_vision/Project/Stage_1_Data_ver_4/stage1/box/correspondences/8_29.txt', '/home/parikshat/MyWorkings/Masters/Semester_2/3d_vision/Project/Stage_1_Data_ver_4/stage1/box/correspondences/8_30.txt', '/home/parikshat/MyWorkings/Masters/Semester_2/3d_vision/Project/Stage_1_Data_ver_4/stage1/box/correspondences/8_31.txt', '/home/parikshat/MyWorkings/Masters/Semester_2/3d_vision/Project/Stage_1_Data_ver_4/stage1/box/correspondences/8_32.txt', '/home/parikshat/MyWorkings/Masters/Semester_2/3d_vision/Project/Stage_1_Data_ver_4/stage1/box/correspondences/8_33.txt', '/home/parikshat/MyWorkings/Masters/Semester_2/3d_vision/Project/Stage_1_Data_ver_4/stage1/box/correspondences/9_10.txt', '/home/parikshat/MyWorkings/Masters/Semester_2/3d_vision/Project/Stage_1_Data_ver_4/stage1/box/correspondences/9_11.txt', '/home/parikshat/MyWorkings/Masters/Semester_2/3d_vision/Project/Stage_1_Data_ver_4/stage1/box/correspondences/9_29.txt', '/home/parikshat/MyWorkings/Masters/Semester_2/3d_vision/Project/Stage_1_Data_ver_4/stage1/box/correspondences/9_30.txt', '/home/parikshat/MyWorkings/Masters/Semester_2/3d_vision/Project/Stage_1_Data_ver_4/stage1/box/correspondences/9_31.txt', '/home/parikshat/MyWorkings/Masters/Semester_2/3d_vision/Project/Stage_1_Data_ver_4/stage1/box/correspondences/9_32.txt', '/home/parikshat/MyWorkings/Masters/Semester_2/3d_vision/Project/Stage_1_Data_ver_4/stage1/box/correspondences/9_33.txt', '/home/parikshat/MyWorkings/Masters/Semester_2/3d_vision/Project/Stage_1_Data_ver_4/stage1/box/correspondences/9_34.txt', '/home/parikshat/MyWorkings/Masters/Semester_2/3d_vision/Project/Stage_1_Data_ver_4/stage1/box/correspondences/9_35.txt', '/home/parikshat/MyWorkings/Masters/Semester_2/3d_vision/Project/Stage_1_Data_ver_4/stage1/box/correspondences/10_11.txt', '/home/parikshat/MyWorkings/Masters/Semester_2/3d_vision/Project/Stage_1_Data_ver_4/stage1/box/correspondences/10_12.txt', '/home/parikshat/MyWorkings/Masters/Semester_2/3d_vision/Project/Stage_1_Data_ver_4/stage1/box/correspondences/10_19.txt', '/home/parikshat/MyWorkings/Masters/Semester_2/3d_vision/Project/Stage_1_Data_ver_4/stage1/box/correspondences/10_31.txt', '/home/parikshat/MyWorkings/Masters/Semester_2/3d_vision/Project/Stage_1_Data_ver_4/stage1/box/correspondences/10_32.txt', '/home/parikshat/MyWorkings/Masters/Semester_2/3d_vision/Project/Stage_1_Data_ver_4/stage1/box/correspondences/10_33.txt', '/home/parikshat/MyWorkings/Masters/Semester_2/3d_vision/Project/Stage_1_Data_ver_4/stage1/box/correspondences/10_34.txt', '/home/parikshat/MyWorkings/Masters/Semester_2/3d_vision/Project/Stage_1_Data_ver_4/stage1/box/correspondences/10_35.txt', '/home/parikshat/MyWorkings/Masters/Semester_2/3d_vision/Project/Stage_1_Data_ver_4/stage1/box/correspondences/10_36.txt', '/home/parikshat/MyWorkings/Masters/Semester_2/3d_vision/Project/Stage_1_Data_ver_4/stage1/box/correspondences/10_37.txt', '/home/parikshat/MyWorkings/Masters/Semester_2/3d_vision/Project/Stage_1_Data_ver_4/stage1/box/correspondences/11_12.txt', '/home/parikshat/MyWorkings/Masters/Semester_2/3d_vision/Project/Stage_1_Data_ver_4/stage1/box/correspondences/11_13.txt', '/home/parikshat/MyWorkings/Masters/Semester_2/3d_vision/Project/Stage_1_Data_ver_4/stage1/box/correspondences/11_34.txt', '/home/parikshat/MyWorkings/Masters/Semester_2/3d_vision/Project/Stage_1_Data_ver_4/stage1/box/correspondences/11_35.txt', '/home/parikshat/MyWorkings/Masters/Semester_2/3d_vision/Project/Stage_1_Data_ver_4/stage1/box/correspondences/11_36.txt', '/home/parikshat/MyWorkings/Masters/Semester_2/3d_vision/Project/Stage_1_Data_ver_4/stage1/box/correspondences/11_37.txt', '/home/parikshat/MyWorkings/Masters/Semester_2/3d_vision/Project/Stage_1_Data_ver_4/stage1/box/correspondences/11_38.txt', '/home/parikshat/MyWorkings/Masters/Semester_2/3d_vision/Project/Stage_1_Data_ver_4/stage1/box/correspondences/12_13.txt', '/home/parikshat/MyWorkings/Masters/Semester_2/3d_vision/Project/Stage_1_Data_ver_4/stage1/box/correspondences/12_14.txt', '/home/parikshat/MyWorkings/Masters/Semester_2/3d_vision/Project/Stage_1_Data_ver_4/stage1/box/correspondences/12_30.txt', '/home/parikshat/MyWorkings/Masters/Semester_2/3d_vision/Project/Stage_1_Data_ver_4/stage1/box/correspondences/12_33.txt', '/home/parikshat/MyWorkings/Masters/Semester_2/3d_vision/Project/Stage_1_Data_ver_4/stage1/box/correspondences/12_34.txt', '/home/parikshat/MyWorkings/Masters/Semester_2/3d_vision/Project/Stage_1_Data_ver_4/stage1/box/correspondences/12_35.txt', '/home/parikshat/MyWorkings/Masters/Semester_2/3d_vision/Project/Stage_1_Data_ver_4/stage1/box/correspondences/12_36.txt', '/home/parikshat/MyWorkings/Masters/Semester_2/3d_vision/Project/Stage_1_Data_ver_4/stage1/box/correspondences/12_37.txt', '/home/parikshat/MyWorkings/Masters/Semester_2/3d_vision/Project/Stage_1_Data_ver_4/stage1/box/correspondences/12_38.txt', '/home/parikshat/MyWorkings/Masters/Semester_2/3d_vision/Project/Stage_1_Data_ver_4/stage1/box/correspondences/12_40.txt', '/home/parikshat/MyWorkings/Masters/Semester_2/3d_vision/Project/Stage_1_Data_ver_4/stage1/box/correspondences/13_14.txt', '/home/parikshat/MyWorkings/Masters/Semester_2/3d_vision/Project/Stage_1_Data_ver_4/stage1/box/correspondences/13_15.txt', '/home/parikshat/MyWorkings/Masters/Semester_2/3d_vision/Project/Stage_1_Data_ver_4/stage1/box/correspondences/13_17.txt', '/home/parikshat/MyWorkings/Masters/Semester_2/3d_vision/Project/Stage_1_Data_ver_4/stage1/box/correspondences/13_19.txt', '/home/parikshat/MyWorkings/Masters/Semester_2/3d_vision/Project/Stage_1_Data_ver_4/stage1/box/correspondences/13_22.txt', '/home/parikshat/MyWorkings/Masters/Semester_2/3d_vision/Project/Stage_1_Data_ver_4/stage1/box/correspondences/13_23.txt', '/home/parikshat/MyWorkings/Masters/Semester_2/3d_vision/Project/Stage_1_Data_ver_4/stage1/box/correspondences/13_24.txt', '/home/parikshat/MyWorkings/Masters/Semester_2/3d_vision/Project/Stage_1_Data_ver_4/stage1/box/correspondences/13_26.txt', '/home/parikshat/MyWorkings/Masters/Semester_2/3d_vision/Project/Stage_1_Data_ver_4/stage1/box/correspondences/13_29.txt', '/home/parikshat/MyWorkings/Masters/Semester_2/3d_vision/Project/Stage_1_Data_ver_4/stage1/box/correspondences/13_30.txt', '/home/parikshat/MyWorkings/Masters/Semester_2/3d_vision/Project/Stage_1_Data_ver_4/stage1/box/correspondences/13_31.txt', '/home/parikshat/MyWorkings/Masters/Semester_2/3d_vision/Project/Stage_1_Data_ver_4/stage1/box/correspondences/13_32.txt', '/home/parikshat/MyWorkings/Masters/Semester_2/3d_vision/Project/Stage_1_Data_ver_4/stage1/box/correspondences/13_40.txt', '/home/parikshat/MyWorkings/Masters/Semester_2/3d_vision/Project/Stage_1_Data_ver_4/stage1/box/correspondences/13_41.txt', '/home/parikshat/MyWorkings/Masters/Semester_2/3d_vision/Project/Stage_1_Data_ver_4/stage1/box/correspondences/13_42.txt', '/home/parikshat/MyWorkings/Masters/Semester_2/3d_vision/Project/Stage_1_Data_ver_4/stage1/box/correspondences/13_43.txt', '/home/parikshat/MyWorkings/Masters/Semester_2/3d_vision/Project/Stage_1_Data_ver_4/stage1/box/correspondences/13_44.txt', '/home/parikshat/MyWorkings/Masters/Semester_2/3d_vision/Project/Stage_1_Data_ver_4/stage1/box/correspondences/13_45.txt', '/home/parikshat/MyWorkings/Masters/Semester_2/3d_vision/Project/Stage_1_Data_ver_4/stage1/box/correspondences/14_15.txt', '/home/parikshat/MyWorkings/Masters/Semester_2/3d_vision/Project/Stage_1_Data_ver_4/stage1/box/correspondences/14_16.txt', '/home/parikshat/MyWorkings/Masters/Semester_2/3d_vision/Project/Stage_1_Data_ver_4/stage1/box/correspondences/14_17.txt', '/home/parikshat/MyWorkings/Masters/Semester_2/3d_vision/Project/Stage_1_Data_ver_4/stage1/box/correspondences/14_19.txt', '/home/parikshat/MyWorkings/Masters/Semester_2/3d_vision/Project/Stage_1_Data_ver_4/stage1/box/correspondences/14_21.txt', '/home/parikshat/MyWorkings/Masters/Semester_2/3d_vision/Project/Stage_1_Data_ver_4/stage1/box/correspondences/14_22.txt', '/home/parikshat/MyWorkings/Masters/Semester_2/3d_vision/Project/Stage_1_Data_ver_4/stage1/box/correspondences/14_23.txt', '/home/parikshat/MyWorkings/Masters/Semester_2/3d_vision/Project/Stage_1_Data_ver_4/stage1/box/correspondences/14_24.txt', '/home/parikshat/MyWorkings/Masters/Semester_2/3d_vision/Project/Stage_1_Data_ver_4/stage1/box/correspondences/14_30.txt', '/home/parikshat/MyWorkings/Masters/Semester_2/3d_vision/Project/Stage_1_Data_ver_4/stage1/box/correspondences/14_41.txt', '/home/parikshat/MyWorkings/Masters/Semester_2/3d_vision/Project/Stage_1_Data_ver_4/stage1/box/correspondences/14_42.txt', '/home/parikshat/MyWorkings/Masters/Semester_2/3d_vision/Project/Stage_1_Data_ver_4/stage1/box/correspondences/14_43.txt', '/home/parikshat/MyWorkings/Masters/Semester_2/3d_vision/Project/Stage_1_Data_ver_4/stage1/box/correspondences/14_44.txt', '/home/parikshat/MyWorkings/Masters/Semester_2/3d_vision/Project/Stage_1_Data_ver_4/stage1/box/correspondences/14_45.txt', '/home/parikshat/MyWorkings/Masters/Semester_2/3d_vision/Project/Stage_1_Data_ver_4/stage1/box/correspondences/15_16.txt', '/home/parikshat/MyWorkings/Masters/Semester_2/3d_vision/Project/Stage_1_Data_ver_4/stage1/box/correspondences/15_17.txt', '/home/parikshat/MyWorkings/Masters/Semester_2/3d_vision/Project/Stage_1_Data_ver_4/stage1/box/correspondences/15_18.txt', '/home/parikshat/MyWorkings/Masters/Semester_2/3d_vision/Project/Stage_1_Data_ver_4/stage1/box/correspondences/15_19.txt', '/home/parikshat/MyWorkings/Masters/Semester_2/3d_vision/Project/Stage_1_Data_ver_4/stage1/box/correspondences/15_21.txt', '/home/parikshat/MyWorkings/Masters/Semester_2/3d_vision/Project/Stage_1_Data_ver_4/stage1/box/correspondences/15_22.txt', '/home/parikshat/MyWorkings/Masters/Semester_2/3d_vision/Project/Stage_1_Data_ver_4/stage1/box/correspondences/15_23.txt', '/home/parikshat/MyWorkings/Masters/Semester_2/3d_vision/Project/Stage_1_Data_ver_4/stage1/box/correspondences/15_24.txt', '/home/parikshat/MyWorkings/Masters/Semester_2/3d_vision/Project/Stage_1_Data_ver_4/stage1/box/correspondences/15_25.txt', '/home/parikshat/MyWorkings/Masters/Semester_2/3d_vision/Project/Stage_1_Data_ver_4/stage1/box/correspondences/15_29.txt', '/home/parikshat/MyWorkings/Masters/Semester_2/3d_vision/Project/Stage_1_Data_ver_4/stage1/box/correspondences/15_30.txt', '/home/parikshat/MyWorkings/Masters/Semester_2/3d_vision/Project/Stage_1_Data_ver_4/stage1/box/correspondences/15_31.txt', '/home/parikshat/MyWorkings/Masters/Semester_2/3d_vision/Project/Stage_1_Data_ver_4/stage1/box/correspondences/15_41.txt', '/home/parikshat/MyWorkings/Masters/Semester_2/3d_vision/Project/Stage_1_Data_ver_4/stage1/box/correspondences/15_42.txt', '/home/parikshat/MyWorkings/Masters/Semester_2/3d_vision/Project/Stage_1_Data_ver_4/stage1/box/correspondences/15_43.txt', '/home/parikshat/MyWorkings/Masters/Semester_2/3d_vision/Project/Stage_1_Data_ver_4/stage1/box/correspondences/15_44.txt', '/home/parikshat/MyWorkings/Masters/Semester_2/3d_vision/Project/Stage_1_Data_ver_4/stage1/box/correspondences/15_45.txt', '/home/parikshat/MyWorkings/Masters/Semester_2/3d_vision/Project/Stage_1_Data_ver_4/stage1/box/correspondences/16_17.txt', '/home/parikshat/MyWorkings/Masters/Semester_2/3d_vision/Project/Stage_1_Data_ver_4/stage1/box/correspondences/16_18.txt', '/home/parikshat/MyWorkings/Masters/Semester_2/3d_vision/Project/Stage_1_Data_ver_4/stage1/box/correspondences/16_19.txt', '/home/parikshat/MyWorkings/Masters/Semester_2/3d_vision/Project/Stage_1_Data_ver_4/stage1/box/correspondences/16_21.txt', '/home/parikshat/MyWorkings/Masters/Semester_2/3d_vision/Project/Stage_1_Data_ver_4/stage1/box/correspondences/16_41.txt', '/home/parikshat/MyWorkings/Masters/Semester_2/3d_vision/Project/Stage_1_Data_ver_4/stage1/box/correspondences/16_42.txt', '/home/parikshat/MyWorkings/Masters/Semester_2/3d_vision/Project/Stage_1_Data_ver_4/stage1/box/correspondences/16_43.txt', '/home/parikshat/MyWorkings/Masters/Semester_2/3d_vision/Project/Stage_1_Data_ver_4/stage1/box/correspondences/16_44.txt', '/home/parikshat/MyWorkings/Masters/Semester_2/3d_vision/Project/Stage_1_Data_ver_4/stage1/box/correspondences/16_45.txt', '/home/parikshat/MyWorkings/Masters/Semester_2/3d_vision/Project/Stage_1_Data_ver_4/stage1/box/correspondences/17_18.txt', '/home/parikshat/MyWorkings/Masters/Semester_2/3d_vision/Project/Stage_1_Data_ver_4/stage1/box/correspondences/17_19.txt', '/home/parikshat/MyWorkings/Masters/Semester_2/3d_vision/Project/Stage_1_Data_ver_4/stage1/box/correspondences/17_20.txt', '/home/parikshat/MyWorkings/Masters/Semester_2/3d_vision/Project/Stage_1_Data_ver_4/stage1/box/correspondences/17_21.txt', '/home/parikshat/MyWorkings/Masters/Semester_2/3d_vision/Project/Stage_1_Data_ver_4/stage1/box/correspondences/17_22.txt', '/home/parikshat/MyWorkings/Masters/Semester_2/3d_vision/Project/Stage_1_Data_ver_4/stage1/box/correspondences/17_23.txt', '/home/parikshat/MyWorkings/Masters/Semester_2/3d_vision/Project/Stage_1_Data_ver_4/stage1/box/correspondences/17_24.txt', '/home/parikshat/MyWorkings/Masters/Semester_2/3d_vision/Project/Stage_1_Data_ver_4/stage1/box/correspondences/17_25.txt', '/home/parikshat/MyWorkings/Masters/Semester_2/3d_vision/Project/Stage_1_Data_ver_4/stage1/box/correspondences/17_26.txt', '/home/parikshat/MyWorkings/Masters/Semester_2/3d_vision/Project/Stage_1_Data_ver_4/stage1/box/correspondences/17_29.txt', '/home/parikshat/MyWorkings/Masters/Semester_2/3d_vision/Project/Stage_1_Data_ver_4/stage1/box/correspondences/17_30.txt', '/home/parikshat/MyWorkings/Masters/Semester_2/3d_vision/Project/Stage_1_Data_ver_4/stage1/box/correspondences/17_31.txt', '/home/parikshat/MyWorkings/Masters/Semester_2/3d_vision/Project/Stage_1_Data_ver_4/stage1/box/correspondences/17_41.txt', '/home/parikshat/MyWorkings/Masters/Semester_2/3d_vision/Project/Stage_1_Data_ver_4/stage1/box/correspondences/17_42.txt', '/home/parikshat/MyWorkings/Masters/Semester_2/3d_vision/Project/Stage_1_Data_ver_4/stage1/box/correspondences/17_43.txt', '/home/parikshat/MyWorkings/Masters/Semester_2/3d_vision/Project/Stage_1_Data_ver_4/stage1/box/correspondences/17_44.txt', '/home/parikshat/MyWorkings/Masters/Semester_2/3d_vision/Project/Stage_1_Data_ver_4/stage1/box/correspondences/17_45.txt', '/home/parikshat/MyWorkings/Masters/Semester_2/3d_vision/Project/Stage_1_Data_ver_4/stage1/box/correspondences/18_19.txt', '/home/parikshat/MyWorkings/Masters/Semester_2/3d_vision/Project/Stage_1_Data_ver_4/stage1/box/correspondences/18_20.txt', '/home/parikshat/MyWorkings/Masters/Semester_2/3d_vision/Project/Stage_1_Data_ver_4/stage1/box/correspondences/18_21.txt', '/home/parikshat/MyWorkings/Masters/Semester_2/3d_vision/Project/Stage_1_Data_ver_4/stage1/box/correspondences/18_22.txt', '/home/parikshat/MyWorkings/Masters/Semester_2/3d_vision/Project/Stage_1_Data_ver_4/stage1/box/correspondences/18_23.txt', '/home/parikshat/MyWorkings/Masters/Semester_2/3d_vision/Project/Stage_1_Data_ver_4/stage1/box/correspondences/18_24.txt', '/home/parikshat/MyWorkings/Masters/Semester_2/3d_vision/Project/Stage_1_Data_ver_4/stage1/box/correspondences/18_25.txt', '/home/parikshat/MyWorkings/Masters/Semester_2/3d_vision/Project/Stage_1_Data_ver_4/stage1/box/correspondences/18_26.txt', '/home/parikshat/MyWorkings/Masters/Semester_2/3d_vision/Project/Stage_1_Data_ver_4/stage1/box/correspondences/18_29.txt', '/home/parikshat/MyWorkings/Masters/Semester_2/3d_vision/Project/Stage_1_Data_ver_4/stage1/box/correspondences/18_30.txt', '/home/parikshat/MyWorkings/Masters/Semester_2/3d_vision/Project/Stage_1_Data_ver_4/stage1/box/correspondences/18_31.txt', '/home/parikshat/MyWorkings/Masters/Semester_2/3d_vision/Project/Stage_1_Data_ver_4/stage1/box/correspondences/18_41.txt', '/home/parikshat/MyWorkings/Masters/Semester_2/3d_vision/Project/Stage_1_Data_ver_4/stage1/box/correspondences/18_42.txt', '/home/parikshat/MyWorkings/Masters/Semester_2/3d_vision/Project/Stage_1_Data_ver_4/stage1/box/correspondences/18_43.txt', '/home/parikshat/MyWorkings/Masters/Semester_2/3d_vision/Project/Stage_1_Data_ver_4/stage1/box/correspondences/18_44.txt', '/home/parikshat/MyWorkings/Masters/Semester_2/3d_vision/Project/Stage_1_Data_ver_4/stage1/box/correspondences/19_20.txt', '/home/parikshat/MyWorkings/Masters/Semester_2/3d_vision/Project/Stage_1_Data_ver_4/stage1/box/correspondences/19_21.txt', '/home/parikshat/MyWorkings/Masters/Semester_2/3d_vision/Project/Stage_1_Data_ver_4/stage1/box/correspondences/19_22.txt', '/home/parikshat/MyWorkings/Masters/Semester_2/3d_vision/Project/Stage_1_Data_ver_4/stage1/box/correspondences/19_23.txt', '/home/parikshat/MyWorkings/Masters/Semester_2/3d_vision/Project/Stage_1_Data_ver_4/stage1/box/correspondences/19_24.txt', '/home/parikshat/MyWorkings/Masters/Semester_2/3d_vision/Project/Stage_1_Data_ver_4/stage1/box/correspondences/19_25.txt', '/home/parikshat/MyWorkings/Masters/Semester_2/3d_vision/Project/Stage_1_Data_ver_4/stage1/box/correspondences/19_26.txt', '/home/parikshat/MyWorkings/Masters/Semester_2/3d_vision/Project/Stage_1_Data_ver_4/stage1/box/correspondences/19_29.txt', '/home/parikshat/MyWorkings/Masters/Semester_2/3d_vision/Project/Stage_1_Data_ver_4/stage1/box/correspondences/19_30.txt', '/home/parikshat/MyWorkings/Masters/Semester_2/3d_vision/Project/Stage_1_Data_ver_4/stage1/box/correspondences/19_31.txt', '/home/parikshat/MyWorkings/Masters/Semester_2/3d_vision/Project/Stage_1_Data_ver_4/stage1/box/correspondences/19_32.txt', '/home/parikshat/MyWorkings/Masters/Semester_2/3d_vision/Project/Stage_1_Data_ver_4/stage1/box/correspondences/19_41.txt', '/home/parikshat/MyWorkings/Masters/Semester_2/3d_vision/Project/Stage_1_Data_ver_4/stage1/box/correspondences/19_42.txt', '/home/parikshat/MyWorkings/Masters/Semester_2/3d_vision/Project/Stage_1_Data_ver_4/stage1/box/correspondences/19_43.txt', '/home/parikshat/MyWorkings/Masters/Semester_2/3d_vision/Project/Stage_1_Data_ver_4/stage1/box/correspondences/19_44.txt', '/home/parikshat/MyWorkings/Masters/Semester_2/3d_vision/Project/Stage_1_Data_ver_4/stage1/box/correspondences/19_45.txt', '/home/parikshat/MyWorkings/Masters/Semester_2/3d_vision/Project/Stage_1_Data_ver_4/stage1/box/correspondences/20_21.txt', '/home/parikshat/MyWorkings/Masters/Semester_2/3d_vision/Project/Stage_1_Data_ver_4/stage1/box/correspondences/20_22.txt', '/home/parikshat/MyWorkings/Masters/Semester_2/3d_vision/Project/Stage_1_Data_ver_4/stage1/box/correspondences/20_23.txt', '/home/parikshat/MyWorkings/Masters/Semester_2/3d_vision/Project/Stage_1_Data_ver_4/stage1/box/correspondences/20_24.txt', '/home/parikshat/MyWorkings/Masters/Semester_2/3d_vision/Project/Stage_1_Data_ver_4/stage1/box/correspondences/20_25.txt', '/home/parikshat/MyWorkings/Masters/Semester_2/3d_vision/Project/Stage_1_Data_ver_4/stage1/box/correspondences/20_43.txt', '/home/parikshat/MyWorkings/Masters/Semester_2/3d_vision/Project/Stage_1_Data_ver_4/stage1/box/correspondences/20_44.txt', '/home/parikshat/MyWorkings/Masters/Semester_2/3d_vision/Project/Stage_1_Data_ver_4/stage1/box/correspondences/21_22.txt', '/home/parikshat/MyWorkings/Masters/Semester_2/3d_vision/Project/Stage_1_Data_ver_4/stage1/box/correspondences/21_23.txt', '/home/parikshat/MyWorkings/Masters/Semester_2/3d_vision/Project/Stage_1_Data_ver_4/stage1/box/correspondences/21_24.txt', '/home/parikshat/MyWorkings/Masters/Semester_2/3d_vision/Project/Stage_1_Data_ver_4/stage1/box/correspondences/21_25.txt', '/home/parikshat/MyWorkings/Masters/Semester_2/3d_vision/Project/Stage_1_Data_ver_4/stage1/box/correspondences/21_26.txt', '/home/parikshat/MyWorkings/Masters/Semester_2/3d_vision/Project/Stage_1_Data_ver_4/stage1/box/correspondences/21_28.txt', '/home/parikshat/MyWorkings/Masters/Semester_2/3d_vision/Project/Stage_1_Data_ver_4/stage1/box/correspondences/21_29.txt', '/home/parikshat/MyWorkings/Masters/Semester_2/3d_vision/Project/Stage_1_Data_ver_4/stage1/box/correspondences/21_30.txt', '/home/parikshat/MyWorkings/Masters/Semester_2/3d_vision/Project/Stage_1_Data_ver_4/stage1/box/correspondences/21_31.txt', '/home/parikshat/MyWorkings/Masters/Semester_2/3d_vision/Project/Stage_1_Data_ver_4/stage1/box/correspondences/21_41.txt', '/home/parikshat/MyWorkings/Masters/Semester_2/3d_vision/Project/Stage_1_Data_ver_4/stage1/box/correspondences/21_42.txt', '/home/parikshat/MyWorkings/Masters/Semester_2/3d_vision/Project/Stage_1_Data_ver_4/stage1/box/correspondences/21_43.txt', '/home/parikshat/MyWorkings/Masters/Semester_2/3d_vision/Project/Stage_1_Data_ver_4/stage1/box/correspondences/21_44.txt', '/home/parikshat/MyWorkings/Masters/Semester_2/3d_vision/Project/Stage_1_Data_ver_4/stage1/box/correspondences/21_45.txt', '/home/parikshat/MyWorkings/Masters/Semester_2/3d_vision/Project/Stage_1_Data_ver_4/stage1/box/correspondences/22_23.txt', '/home/parikshat/MyWorkings/Masters/Semester_2/3d_vision/Project/Stage_1_Data_ver_4/stage1/box/correspondences/22_24.txt', '/home/parikshat/MyWorkings/Masters/Semester_2/3d_vision/Project/Stage_1_Data_ver_4/stage1/box/correspondences/22_25.txt', '/home/parikshat/MyWorkings/Masters/Semester_2/3d_vision/Project/Stage_1_Data_ver_4/stage1/box/correspondences/22_26.txt', '/home/parikshat/MyWorkings/Masters/Semester_2/3d_vision/Project/Stage_1_Data_ver_4/stage1/box/correspondences/22_28.txt', '/home/parikshat/MyWorkings/Masters/Semester_2/3d_vision/Project/Stage_1_Data_ver_4/stage1/box/correspondences/22_29.txt', '/home/parikshat/MyWorkings/Masters/Semester_2/3d_vision/Project/Stage_1_Data_ver_4/stage1/box/correspondences/22_30.txt', '/home/parikshat/MyWorkings/Masters/Semester_2/3d_vision/Project/Stage_1_Data_ver_4/stage1/box/correspondences/22_31.txt', '/home/parikshat/MyWorkings/Masters/Semester_2/3d_vision/Project/Stage_1_Data_ver_4/stage1/box/correspondences/22_36.txt', '/home/parikshat/MyWorkings/Masters/Semester_2/3d_vision/Project/Stage_1_Data_ver_4/stage1/box/correspondences/22_41.txt', '/home/parikshat/MyWorkings/Masters/Semester_2/3d_vision/Project/Stage_1_Data_ver_4/stage1/box/correspondences/22_42.txt', '/home/parikshat/MyWorkings/Masters/Semester_2/3d_vision/Project/Stage_1_Data_ver_4/stage1/box/correspondences/22_43.txt', '/home/parikshat/MyWorkings/Masters/Semester_2/3d_vision/Project/Stage_1_Data_ver_4/stage1/box/correspondences/22_44.txt', '/home/parikshat/MyWorkings/Masters/Semester_2/3d_vision/Project/Stage_1_Data_ver_4/stage1/box/correspondences/22_45.txt', '/home/parikshat/MyWorkings/Masters/Semester_2/3d_vision/Project/Stage_1_Data_ver_4/stage1/box/correspondences/23_24.txt', '/home/parikshat/MyWorkings/Masters/Semester_2/3d_vision/Project/Stage_1_Data_ver_4/stage1/box/correspondences/23_25.txt', '/home/parikshat/MyWorkings/Masters/Semester_2/3d_vision/Project/Stage_1_Data_ver_4/stage1/box/correspondences/23_26.txt', '/home/parikshat/MyWorkings/Masters/Semester_2/3d_vision/Project/Stage_1_Data_ver_4/stage1/box/correspondences/23_28.txt', '/home/parikshat/MyWorkings/Masters/Semester_2/3d_vision/Project/Stage_1_Data_ver_4/stage1/box/correspondences/23_29.txt', '/home/parikshat/MyWorkings/Masters/Semester_2/3d_vision/Project/Stage_1_Data_ver_4/stage1/box/correspondences/23_30.txt', '/home/parikshat/MyWorkings/Masters/Semester_2/3d_vision/Project/Stage_1_Data_ver_4/stage1/box/correspondences/23_31.txt', '/home/parikshat/MyWorkings/Masters/Semester_2/3d_vision/Project/Stage_1_Data_ver_4/stage1/box/correspondences/23_34.txt', '/home/parikshat/MyWorkings/Masters/Semester_2/3d_vision/Project/Stage_1_Data_ver_4/stage1/box/correspondences/23_35.txt', '/home/parikshat/MyWorkings/Masters/Semester_2/3d_vision/Project/Stage_1_Data_ver_4/stage1/box/correspondences/23_41.txt', '/home/parikshat/MyWorkings/Masters/Semester_2/3d_vision/Project/Stage_1_Data_ver_4/stage1/box/correspondences/23_42.txt', '/home/parikshat/MyWorkings/Masters/Semester_2/3d_vision/Project/Stage_1_Data_ver_4/stage1/box/correspondences/23_43.txt', '/home/parikshat/MyWorkings/Masters/Semester_2/3d_vision/Project/Stage_1_Data_ver_4/stage1/box/correspondences/23_44.txt', '/home/parikshat/MyWorkings/Masters/Semester_2/3d_vision/Project/Stage_1_Data_ver_4/stage1/box/correspondences/23_45.txt', '/home/parikshat/MyWorkings/Masters/Semester_2/3d_vision/Project/Stage_1_Data_ver_4/stage1/box/correspondences/24_25.txt', '/home/parikshat/MyWorkings/Masters/Semester_2/3d_vision/Project/Stage_1_Data_ver_4/stage1/box/correspondences/24_26.txt', '/home/parikshat/MyWorkings/Masters/Semester_2/3d_vision/Project/Stage_1_Data_ver_4/stage1/box/correspondences/24_28.txt', '/home/parikshat/MyWorkings/Masters/Semester_2/3d_vision/Project/Stage_1_Data_ver_4/stage1/box/correspondences/24_29.txt', '/home/parikshat/MyWorkings/Masters/Semester_2/3d_vision/Project/Stage_1_Data_ver_4/stage1/box/correspondences/24_30.txt', '/home/parikshat/MyWorkings/Masters/Semester_2/3d_vision/Project/Stage_1_Data_ver_4/stage1/box/correspondences/24_31.txt', '/home/parikshat/MyWorkings/Masters/Semester_2/3d_vision/Project/Stage_1_Data_ver_4/stage1/box/correspondences/24_32.txt', '/home/parikshat/MyWorkings/Masters/Semester_2/3d_vision/Project/Stage_1_Data_ver_4/stage1/box/correspondences/24_34.txt', '/home/parikshat/MyWorkings/Masters/Semester_2/3d_vision/Project/Stage_1_Data_ver_4/stage1/box/correspondences/24_35.txt', '/home/parikshat/MyWorkings/Masters/Semester_2/3d_vision/Project/Stage_1_Data_ver_4/stage1/box/correspondences/24_36.txt', '/home/parikshat/MyWorkings/Masters/Semester_2/3d_vision/Project/Stage_1_Data_ver_4/stage1/box/correspondences/24_37.txt', '/home/parikshat/MyWorkings/Masters/Semester_2/3d_vision/Project/Stage_1_Data_ver_4/stage1/box/correspondences/24_40.txt', '/home/parikshat/MyWorkings/Masters/Semester_2/3d_vision/Project/Stage_1_Data_ver_4/stage1/box/correspondences/24_41.txt', '/home/parikshat/MyWorkings/Masters/Semester_2/3d_vision/Project/Stage_1_Data_ver_4/stage1/box/correspondences/24_42.txt', '/home/parikshat/MyWorkings/Masters/Semester_2/3d_vision/Project/Stage_1_Data_ver_4/stage1/box/correspondences/24_43.txt', '/home/parikshat/MyWorkings/Masters/Semester_2/3d_vision/Project/Stage_1_Data_ver_4/stage1/box/correspondences/24_44.txt', '/home/parikshat/MyWorkings/Masters/Semester_2/3d_vision/Project/Stage_1_Data_ver_4/stage1/box/correspondences/24_45.txt', '/home/parikshat/MyWorkings/Masters/Semester_2/3d_vision/Project/Stage_1_Data_ver_4/stage1/box/correspondences/25_26.txt', '/home/parikshat/MyWorkings/Masters/Semester_2/3d_vision/Project/Stage_1_Data_ver_4/stage1/box/correspondences/25_27.txt', '/home/parikshat/MyWorkings/Masters/Semester_2/3d_vision/Project/Stage_1_Data_ver_4/stage1/box/correspondences/25_28.txt', '/home/parikshat/MyWorkings/Masters/Semester_2/3d_vision/Project/Stage_1_Data_ver_4/stage1/box/correspondences/25_29.txt', '/home/parikshat/MyWorkings/Masters/Semester_2/3d_vision/Project/Stage_1_Data_ver_4/stage1/box/correspondences/25_30.txt', '/home/parikshat/MyWorkings/Masters/Semester_2/3d_vision/Project/Stage_1_Data_ver_4/stage1/box/correspondences/25_31.txt', '/home/parikshat/MyWorkings/Masters/Semester_2/3d_vision/Project/Stage_1_Data_ver_4/stage1/box/correspondences/25_32.txt', '/home/parikshat/MyWorkings/Masters/Semester_2/3d_vision/Project/Stage_1_Data_ver_4/stage1/box/correspondences/25_35.txt', '/home/parikshat/MyWorkings/Masters/Semester_2/3d_vision/Project/Stage_1_Data_ver_4/stage1/box/correspondences/25_36.txt', '/home/parikshat/MyWorkings/Masters/Semester_2/3d_vision/Project/Stage_1_Data_ver_4/stage1/box/correspondences/25_37.txt', '/home/parikshat/MyWorkings/Masters/Semester_2/3d_vision/Project/Stage_1_Data_ver_4/stage1/box/correspondences/25_39.txt', '/home/parikshat/MyWorkings/Masters/Semester_2/3d_vision/Project/Stage_1_Data_ver_4/stage1/box/correspondences/25_40.txt', '/home/parikshat/MyWorkings/Masters/Semester_2/3d_vision/Project/Stage_1_Data_ver_4/stage1/box/correspondences/25_41.txt', '/home/parikshat/MyWorkings/Masters/Semester_2/3d_vision/Project/Stage_1_Data_ver_4/stage1/box/correspondences/25_42.txt', '/home/parikshat/MyWorkings/Masters/Semester_2/3d_vision/Project/Stage_1_Data_ver_4/stage1/box/correspondences/25_43.txt', '/home/parikshat/MyWorkings/Masters/Semester_2/3d_vision/Project/Stage_1_Data_ver_4/stage1/box/correspondences/25_44.txt', '/home/parikshat/MyWorkings/Masters/Semester_2/3d_vision/Project/Stage_1_Data_ver_4/stage1/box/correspondences/25_45.txt', '/home/parikshat/MyWorkings/Masters/Semester_2/3d_vision/Project/Stage_1_Data_ver_4/stage1/box/correspondences/26_27.txt', '/home/parikshat/MyWorkings/Masters/Semester_2/3d_vision/Project/Stage_1_Data_ver_4/stage1/box/correspondences/26_28.txt', '/home/parikshat/MyWorkings/Masters/Semester_2/3d_vision/Project/Stage_1_Data_ver_4/stage1/box/correspondences/26_29.txt', '/home/parikshat/MyWorkings/Masters/Semester_2/3d_vision/Project/Stage_1_Data_ver_4/stage1/box/correspondences/26_30.txt', '/home/parikshat/MyWorkings/Masters/Semester_2/3d_vision/Project/Stage_1_Data_ver_4/stage1/box/correspondences/26_31.txt', '/home/parikshat/MyWorkings/Masters/Semester_2/3d_vision/Project/Stage_1_Data_ver_4/stage1/box/correspondences/26_32.txt', '/home/parikshat/MyWorkings/Masters/Semester_2/3d_vision/Project/Stage_1_Data_ver_4/stage1/box/correspondences/26_37.txt', '/home/parikshat/MyWorkings/Masters/Semester_2/3d_vision/Project/Stage_1_Data_ver_4/stage1/box/correspondences/26_38.txt', '/home/parikshat/MyWorkings/Masters/Semester_2/3d_vision/Project/Stage_1_Data_ver_4/stage1/box/correspondences/26_41.txt', '/home/parikshat/MyWorkings/Masters/Semester_2/3d_vision/Project/Stage_1_Data_ver_4/stage1/box/correspondences/26_42.txt', '/home/parikshat/MyWorkings/Masters/Semester_2/3d_vision/Project/Stage_1_Data_ver_4/stage1/box/correspondences/26_43.txt', '/home/parikshat/MyWorkings/Masters/Semester_2/3d_vision/Project/Stage_1_Data_ver_4/stage1/box/correspondences/26_44.txt', '/home/parikshat/MyWorkings/Masters/Semester_2/3d_vision/Project/Stage_1_Data_ver_4/stage1/box/correspondences/26_45.txt', '/home/parikshat/MyWorkings/Masters/Semester_2/3d_vision/Project/Stage_1_Data_ver_4/stage1/box/correspondences/27_28.txt', '/home/parikshat/MyWorkings/Masters/Semester_2/3d_vision/Project/Stage_1_Data_ver_4/stage1/box/correspondences/28_29.txt', '/home/parikshat/MyWorkings/Masters/Semester_2/3d_vision/Project/Stage_1_Data_ver_4/stage1/box/correspondences/28_30.txt', '/home/parikshat/MyWorkings/Masters/Semester_2/3d_vision/Project/Stage_1_Data_ver_4/stage1/box/correspondences/28_31.txt', '/home/parikshat/MyWorkings/Masters/Semester_2/3d_vision/Project/Stage_1_Data_ver_4/stage1/box/correspondences/28_32.txt', '/home/parikshat/MyWorkings/Masters/Semester_2/3d_vision/Project/Stage_1_Data_ver_4/stage1/box/correspondences/28_33.txt', '/home/parikshat/MyWorkings/Masters/Semester_2/3d_vision/Project/Stage_1_Data_ver_4/stage1/box/correspondences/28_34.txt', '/home/parikshat/MyWorkings/Masters/Semester_2/3d_vision/Project/Stage_1_Data_ver_4/stage1/box/correspondences/28_35.txt', '/home/parikshat/MyWorkings/Masters/Semester_2/3d_vision/Project/Stage_1_Data_ver_4/stage1/box/correspondences/28_36.txt', '/home/parikshat/MyWorkings/Masters/Semester_2/3d_vision/Project/Stage_1_Data_ver_4/stage1/box/correspondences/28_37.txt', '/home/parikshat/MyWorkings/Masters/Semester_2/3d_vision/Project/Stage_1_Data_ver_4/stage1/box/correspondences/28_39.txt', '/home/parikshat/MyWorkings/Masters/Semester_2/3d_vision/Project/Stage_1_Data_ver_4/stage1/box/correspondences/29_30.txt', '/home/parikshat/MyWorkings/Masters/Semester_2/3d_vision/Project/Stage_1_Data_ver_4/stage1/box/correspondences/29_31.txt', '/home/parikshat/MyWorkings/Masters/Semester_2/3d_vision/Project/Stage_1_Data_ver_4/stage1/box/correspondences/29_32.txt', '/home/parikshat/MyWorkings/Masters/Semester_2/3d_vision/Project/Stage_1_Data_ver_4/stage1/box/correspondences/29_33.txt', '/home/parikshat/MyWorkings/Masters/Semester_2/3d_vision/Project/Stage_1_Data_ver_4/stage1/box/correspondences/29_34.txt', '/home/parikshat/MyWorkings/Masters/Semester_2/3d_vision/Project/Stage_1_Data_ver_4/stage1/box/correspondences/29_35.txt', '/home/parikshat/MyWorkings/Masters/Semester_2/3d_vision/Project/Stage_1_Data_ver_4/stage1/box/correspondences/29_36.txt', '/home/parikshat/MyWorkings/Masters/Semester_2/3d_vision/Project/Stage_1_Data_ver_4/stage1/box/correspondences/29_37.txt', '/home/parikshat/MyWorkings/Masters/Semester_2/3d_vision/Project/Stage_1_Data_ver_4/stage1/box/correspondences/29_38.txt', '/home/parikshat/MyWorkings/Masters/Semester_2/3d_vision/Project/Stage_1_Data_ver_4/stage1/box/correspondences/29_39.txt', '/home/parikshat/MyWorkings/Masters/Semester_2/3d_vision/Project/Stage_1_Data_ver_4/stage1/box/correspondences/29_40.txt', '/home/parikshat/MyWorkings/Masters/Semester_2/3d_vision/Project/Stage_1_Data_ver_4/stage1/box/correspondences/29_41.txt', '/home/parikshat/MyWorkings/Masters/Semester_2/3d_vision/Project/Stage_1_Data_ver_4/stage1/box/correspondences/29_42.txt', '/home/parikshat/MyWorkings/Masters/Semester_2/3d_vision/Project/Stage_1_Data_ver_4/stage1/box/correspondences/29_43.txt', '/home/parikshat/MyWorkings/Masters/Semester_2/3d_vision/Project/Stage_1_Data_ver_4/stage1/box/correspondences/29_44.txt', '/home/parikshat/MyWorkings/Masters/Semester_2/3d_vision/Project/Stage_1_Data_ver_4/stage1/box/correspondences/29_45.txt', '/home/parikshat/MyWorkings/Masters/Semester_2/3d_vision/Project/Stage_1_Data_ver_4/stage1/box/correspondences/30_31.txt', '/home/parikshat/MyWorkings/Masters/Semester_2/3d_vision/Project/Stage_1_Data_ver_4/stage1/box/correspondences/30_32.txt', '/home/parikshat/MyWorkings/Masters/Semester_2/3d_vision/Project/Stage_1_Data_ver_4/stage1/box/correspondences/30_33.txt', '/home/parikshat/MyWorkings/Masters/Semester_2/3d_vision/Project/Stage_1_Data_ver_4/stage1/box/correspondences/30_34.txt', '/home/parikshat/MyWorkings/Masters/Semester_2/3d_vision/Project/Stage_1_Data_ver_4/stage1/box/correspondences/30_35.txt', '/home/parikshat/MyWorkings/Masters/Semester_2/3d_vision/Project/Stage_1_Data_ver_4/stage1/box/correspondences/30_36.txt', '/home/parikshat/MyWorkings/Masters/Semester_2/3d_vision/Project/Stage_1_Data_ver_4/stage1/box/correspondences/30_37.txt', '/home/parikshat/MyWorkings/Masters/Semester_2/3d_vision/Project/Stage_1_Data_ver_4/stage1/box/correspondences/30_38.txt', '/home/parikshat/MyWorkings/Masters/Semester_2/3d_vision/Project/Stage_1_Data_ver_4/stage1/box/correspondences/30_41.txt', '/home/parikshat/MyWorkings/Masters/Semester_2/3d_vision/Project/Stage_1_Data_ver_4/stage1/box/correspondences/30_42.txt', '/home/parikshat/MyWorkings/Masters/Semester_2/3d_vision/Project/Stage_1_Data_ver_4/stage1/box/correspondences/30_43.txt', '/home/parikshat/MyWorkings/Masters/Semester_2/3d_vision/Project/Stage_1_Data_ver_4/stage1/box/correspondences/30_44.txt', '/home/parikshat/MyWorkings/Masters/Semester_2/3d_vision/Project/Stage_1_Data_ver_4/stage1/box/correspondences/30_45.txt', '/home/parikshat/MyWorkings/Masters/Semester_2/3d_vision/Project/Stage_1_Data_ver_4/stage1/box/correspondences/31_32.txt', '/home/parikshat/MyWorkings/Masters/Semester_2/3d_vision/Project/Stage_1_Data_ver_4/stage1/box/correspondences/31_33.txt', '/home/parikshat/MyWorkings/Masters/Semester_2/3d_vision/Project/Stage_1_Data_ver_4/stage1/box/correspondences/31_34.txt', '/home/parikshat/MyWorkings/Masters/Semester_2/3d_vision/Project/Stage_1_Data_ver_4/stage1/box/correspondences/31_35.txt', '/home/parikshat/MyWorkings/Masters/Semester_2/3d_vision/Project/Stage_1_Data_ver_4/stage1/box/correspondences/31_36.txt', '/home/parikshat/MyWorkings/Masters/Semester_2/3d_vision/Project/Stage_1_Data_ver_4/stage1/box/correspondences/31_38.txt', '/home/parikshat/MyWorkings/Masters/Semester_2/3d_vision/Project/Stage_1_Data_ver_4/stage1/box/correspondences/31_41.txt', '/home/parikshat/MyWorkings/Masters/Semester_2/3d_vision/Project/Stage_1_Data_ver_4/stage1/box/correspondences/31_42.txt', '/home/parikshat/MyWorkings/Masters/Semester_2/3d_vision/Project/Stage_1_Data_ver_4/stage1/box/correspondences/31_43.txt', '/home/parikshat/MyWorkings/Masters/Semester_2/3d_vision/Project/Stage_1_Data_ver_4/stage1/box/correspondences/31_44.txt', '/home/parikshat/MyWorkings/Masters/Semester_2/3d_vision/Project/Stage_1_Data_ver_4/stage1/box/correspondences/31_45.txt', '/home/parikshat/MyWorkings/Masters/Semester_2/3d_vision/Project/Stage_1_Data_ver_4/stage1/box/correspondences/32_33.txt', '/home/parikshat/MyWorkings/Masters/Semester_2/3d_vision/Project/Stage_1_Data_ver_4/stage1/box/correspondences/32_34.txt', '/home/parikshat/MyWorkings/Masters/Semester_2/3d_vision/Project/Stage_1_Data_ver_4/stage1/box/correspondences/32_35.txt', '/home/parikshat/MyWorkings/Masters/Semester_2/3d_vision/Project/Stage_1_Data_ver_4/stage1/box/correspondences/32_36.txt', '/home/parikshat/MyWorkings/Masters/Semester_2/3d_vision/Project/Stage_1_Data_ver_4/stage1/box/correspondences/32_37.txt', '/home/parikshat/MyWorkings/Masters/Semester_2/3d_vision/Project/Stage_1_Data_ver_4/stage1/box/correspondences/32_43.txt', '/home/parikshat/MyWorkings/Masters/Semester_2/3d_vision/Project/Stage_1_Data_ver_4/stage1/box/correspondences/32_44.txt', '/home/parikshat/MyWorkings/Masters/Semester_2/3d_vision/Project/Stage_1_Data_ver_4/stage1/box/correspondences/33_34.txt', '/home/parikshat/MyWorkings/Masters/Semester_2/3d_vision/Project/Stage_1_Data_ver_4/stage1/box/correspondences/33_35.txt', '/home/parikshat/MyWorkings/Masters/Semester_2/3d_vision/Project/Stage_1_Data_ver_4/stage1/box/correspondences/33_36.txt', '/home/parikshat/MyWorkings/Masters/Semester_2/3d_vision/Project/Stage_1_Data_ver_4/stage1/box/correspondences/33_37.txt', '/home/parikshat/MyWorkings/Masters/Semester_2/3d_vision/Project/Stage_1_Data_ver_4/stage1/box/correspondences/34_35.txt', '/home/parikshat/MyWorkings/Masters/Semester_2/3d_vision/Project/Stage_1_Data_ver_4/stage1/box/correspondences/34_36.txt', '/home/parikshat/MyWorkings/Masters/Semester_2/3d_vision/Project/Stage_1_Data_ver_4/stage1/box/correspondences/34_37.txt', '/home/parikshat/MyWorkings/Masters/Semester_2/3d_vision/Project/Stage_1_Data_ver_4/stage1/box/correspondences/34_38.txt', '/home/parikshat/MyWorkings/Masters/Semester_2/3d_vision/Project/Stage_1_Data_ver_4/stage1/box/correspondences/34_39.txt', '/home/parikshat/MyWorkings/Masters/Semester_2/3d_vision/Project/Stage_1_Data_ver_4/stage1/box/correspondences/34_40.txt', '/home/parikshat/MyWorkings/Masters/Semester_2/3d_vision/Project/Stage_1_Data_ver_4/stage1/box/correspondences/34_43.txt', '/home/parikshat/MyWorkings/Masters/Semester_2/3d_vision/Project/Stage_1_Data_ver_4/stage1/box/correspondences/34_44.txt', '/home/parikshat/MyWorkings/Masters/Semester_2/3d_vision/Project/Stage_1_Data_ver_4/stage1/box/correspondences/35_36.txt', '/home/parikshat/MyWorkings/Masters/Semester_2/3d_vision/Project/Stage_1_Data_ver_4/stage1/box/correspondences/35_37.txt', '/home/parikshat/MyWorkings/Masters/Semester_2/3d_vision/Project/Stage_1_Data_ver_4/stage1/box/correspondences/35_38.txt', '/home/parikshat/MyWorkings/Masters/Semester_2/3d_vision/Project/Stage_1_Data_ver_4/stage1/box/correspondences/35_39.txt', '/home/parikshat/MyWorkings/Masters/Semester_2/3d_vision/Project/Stage_1_Data_ver_4/stage1/box/correspondences/35_40.txt', '/home/parikshat/MyWorkings/Masters/Semester_2/3d_vision/Project/Stage_1_Data_ver_4/stage1/box/correspondences/35_43.txt', '/home/parikshat/MyWorkings/Masters/Semester_2/3d_vision/Project/Stage_1_Data_ver_4/stage1/box/correspondences/35_44.txt', '/home/parikshat/MyWorkings/Masters/Semester_2/3d_vision/Project/Stage_1_Data_ver_4/stage1/box/correspondences/36_37.txt', '/home/parikshat/MyWorkings/Masters/Semester_2/3d_vision/Project/Stage_1_Data_ver_4/stage1/box/correspondences/36_38.txt', '/home/parikshat/MyWorkings/Masters/Semester_2/3d_vision/Project/Stage_1_Data_ver_4/stage1/box/correspondences/36_39.txt', '/home/parikshat/MyWorkings/Masters/Semester_2/3d_vision/Project/Stage_1_Data_ver_4/stage1/box/correspondences/36_40.txt', '/home/parikshat/MyWorkings/Masters/Semester_2/3d_vision/Project/Stage_1_Data_ver_4/stage1/box/correspondences/37_38.txt', '/home/parikshat/MyWorkings/Masters/Semester_2/3d_vision/Project/Stage_1_Data_ver_4/stage1/box/correspondences/37_39.txt', '/home/parikshat/MyWorkings/Masters/Semester_2/3d_vision/Project/Stage_1_Data_ver_4/stage1/box/correspondences/37_40.txt', '/home/parikshat/MyWorkings/Masters/Semester_2/3d_vision/Project/Stage_1_Data_ver_4/stage1/box/correspondences/38_39.txt', '/home/parikshat/MyWorkings/Masters/Semester_2/3d_vision/Project/Stage_1_Data_ver_4/stage1/box/correspondences/38_40.txt', '/home/parikshat/MyWorkings/Masters/Semester_2/3d_vision/Project/Stage_1_Data_ver_4/stage1/box/correspondences/39_40.txt', '/home/parikshat/MyWorkings/Masters/Semester_2/3d_vision/Project/Stage_1_Data_ver_4/stage1/box/correspondences/40_41.txt', '/home/parikshat/MyWorkings/Masters/Semester_2/3d_vision/Project/Stage_1_Data_ver_4/stage1/box/correspondences/41_42.txt', '/home/parikshat/MyWorkings/Masters/Semester_2/3d_vision/Project/Stage_1_Data_ver_4/stage1/box/correspondences/41_43.txt', '/home/parikshat/MyWorkings/Masters/Semester_2/3d_vision/Project/Stage_1_Data_ver_4/stage1/box/correspondences/41_44.txt', '/home/parikshat/MyWorkings/Masters/Semester_2/3d_vision/Project/Stage_1_Data_ver_4/stage1/box/correspondences/41_45.txt', '/home/parikshat/MyWorkings/Masters/Semester_2/3d_vision/Project/Stage_1_Data_ver_4/stage1/box/correspondences/42_43.txt', '/home/parikshat/MyWorkings/Masters/Semester_2/3d_vision/Project/Stage_1_Data_ver_4/stage1/box/correspondences/42_44.txt', '/home/parikshat/MyWorkings/Masters/Semester_2/3d_vision/Project/Stage_1_Data_ver_4/stage1/box/correspondences/42_45.txt', '/home/parikshat/MyWorkings/Masters/Semester_2/3d_vision/Project/Stage_1_Data_ver_4/stage1/box/correspondences/43_44.txt', '/home/parikshat/MyWorkings/Masters/Semester_2/3d_vision/Project/Stage_1_Data_ver_4/stage1/box/correspondences/43_45.txt', '/home/parikshat/MyWorkings/Masters/Semester_2/3d_vision/Project/Stage_1_Data_ver_4/stage1/box/correspondences/44_45.txt']\n"
     ]
    }
   ],
   "source": [
    "from natsort import natsorted\n",
    "correspondence_files = natsorted(glob.glob(f\"/home/parikshat/MyWorkings/Masters/Semester_2/3d_vision/Project/Stage_1_Data_ver_4/stage1/box/correspondences/*\"))"
   ]
  },
  {
   "cell_type": "code",
   "execution_count": null,
   "metadata": {},
   "outputs": [],
   "source": [
    "import  struct\n",
    "def write_pointcloud(filename,xyz_points,rgb_points=None):\n",
    "\n",
    "    \"\"\" creates a .pkl file of the point clouds generated\n",
    "    \"\"\"\n",
    "\n",
    "    assert xyz_points.shape[1] == 3,'Input XYZ points should be Nx3 float array'\n",
    "    if rgb_points is None:\n",
    "        rgb_points = np.ones(xyz_points.shape).astype(np.uint8)*255\n",
    "    assert xyz_points.shape == rgb_points.shape,'Input RGB colors should be Nx3 float array and have same size as input XYZ points'\n",
    "\n",
    "    # Write header of .ply file\n",
    "    fid = open(filename,'wb')\n",
    "    fid.write(bytes('ply\\n', 'utf-8'))\n",
    "    fid.write(bytes('format binary_little_endian 1.0\\n', 'utf-8'))\n",
    "    fid.write(bytes('element vertex %d\\n'%xyz_points.shape[0], 'utf-8'))\n",
    "    fid.write(bytes('property float x\\n', 'utf-8'))\n",
    "    fid.write(bytes('property float y\\n', 'utf-8'))\n",
    "    fid.write(bytes('property float z\\n', 'utf-8'))\n",
    "    fid.write(bytes('property uchar red\\n', 'utf-8'))\n",
    "    fid.write(bytes('property uchar green\\n', 'utf-8'))\n",
    "    fid.write(bytes('property uchar blue\\n', 'utf-8'))\n",
    "    fid.write(bytes('end_header\\n', 'utf-8'))\n",
    "\n",
    "    # Write 3D points to .ply file\n",
    "    for i in range(xyz_points.shape[0]):\n",
    "        fid.write(bytearray(struct.pack(\"fffccc\",xyz_points[i,0],xyz_points[i,1],xyz_points[i,2],\n",
    "                                        rgb_points[i,0].tostring(),rgb_points[i,1].tostring(),\n",
    "                                        rgb_points[i,2].tostring())))\n",
    "    fid.close()\n"
   ]
  },
  {
   "cell_type": "code",
   "execution_count": null,
   "metadata": {},
   "outputs": [],
   "source": [
    "X = X_reconstructed[(reconstructed_ind == 1)[...,0]]\n",
    "c = data.colors[(reconstructed_ind == 1)[...,0]]"
   ]
  },
  {
   "cell_type": "code",
   "execution_count": null,
   "metadata": {},
   "outputs": [],
   "source": [
    "X_reconstructed.min()"
   ]
  },
  {
   "cell_type": "code",
   "execution_count": null,
   "metadata": {},
   "outputs": [],
   "source": [
    "write_pointcloud(\"initial_run.ply\", X, c)"
   ]
  },
  {
   "cell_type": "code",
   "execution_count": null,
   "metadata": {},
   "outputs": [],
   "source": [
    "R,t = PnPRANSAC(data.K, corr_points, X_new)"
   ]
  },
  {
   "cell_type": "code",
   "execution_count": null,
   "metadata": {},
   "outputs": [],
   "source": [
    "indices = (visibility[:,37, 40] == 1)\n",
    "print(indices.sum())\n",
    "pts1, pts2 = data.points[indices, 37], data.points[indices, 40]\n",
    "    "
   ]
  },
  {
   "cell_type": "code",
   "execution_count": null,
   "metadata": {},
   "outputs": [],
   "source": [
    "projection_matrix_extrinsic[:3]"
   ]
  },
  {
   "cell_type": "code",
   "execution_count": 16,
   "metadata": {},
   "outputs": [],
   "source": [
    "import json \n",
    "with open(\"/home/parikshat/MyWorkings/Masters/Semester_2/3d_vision/Project/Stage_1_Data_ver_4/stage1/box/gt_camera_parameters.json\") as json_data:\n",
    "    camera_parameters = json.load(json_data)\n",
    "    json_data.close()\n"
   ]
  },
  {
   "cell_type": "code",
   "execution_count": 17,
   "metadata": {},
   "outputs": [
    {
     "data": {
      "text/plain": [
       "array([[ 0.13224099,  0.33209007, -0.93393135,  5.0117027 ],\n",
       "       [-0.37734979,  0.88812644,  0.26237109, -0.79974682],\n",
       "       [ 0.91657926,  0.3177235 ,  0.24276078,  5.02277276],\n",
       "       [ 0.        ,  0.        ,  0.        ,  1.        ]])"
      ]
     },
     "execution_count": 17,
     "metadata": {},
     "output_type": "execute_result"
    }
   ],
   "source": [
    "np.array(camera_parameters['extrinsics']['00007.jpg'])"
   ]
  },
  {
   "cell_type": "code",
   "execution_count": 18,
   "metadata": {},
   "outputs": [
    {
     "data": {
      "text/plain": [
       "array([[ 0.10827783,  0.29242342, -0.95013918,  3.49098547],\n",
       "       [-0.38049829,  0.89517045,  0.23214418, -1.12122662],\n",
       "       [ 0.91842091,  0.33639026,  0.20819372,  5.48195341],\n",
       "       [ 0.        ,  0.        ,  0.        ,  1.        ]])"
      ]
     },
     "execution_count": 18,
     "metadata": {},
     "output_type": "execute_result"
    }
   ],
   "source": [
    "projection_matrix_extrinsic[7]"
   ]
  },
  {
   "cell_type": "code",
   "execution_count": null,
   "metadata": {},
   "outputs": [],
   "source": [
    "computeProjectionMatrix(data.K,R,C)"
   ]
  },
  {
   "cell_type": "code",
   "execution_count": null,
   "metadata": {},
   "outputs": [],
   "source": []
  },
  {
   "cell_type": "code",
   "execution_count": null,
   "metadata": {},
   "outputs": [],
   "source": [
    "q, A = test(pts1, pts2, P1, computeProjectionMatrix(data.K,R,C))"
   ]
  },
  {
   "cell_type": "code",
   "execution_count": null,
   "metadata": {},
   "outputs": [],
   "source": [
    "(new / new[:,3][...,None]).min()"
   ]
  },
  {
   "cell_type": "code",
   "execution_count": null,
   "metadata": {},
   "outputs": [],
   "source": [
    "new = Lin_tri(data.K, camera_translations[0], camera_rotations[0], C,R,pts1, pts2)\n"
   ]
  },
  {
   "cell_type": "code",
   "execution_count": null,
   "metadata": {},
   "outputs": [],
   "source": [
    "q == new"
   ]
  },
  {
   "cell_type": "code",
   "execution_count": null,
   "metadata": {},
   "outputs": [],
   "source": [
    "def PM(K,R,C):\n",
    "\n",
    "    C = np.reshape(C, (3, 1))        \n",
    "    I = np.identity(3)\n",
    "    P = np.dot(K, np.dot(R, np.hstack((I, -C))))\n",
    "\n",
    "    return P\n"
   ]
  },
  {
   "cell_type": "code",
   "execution_count": null,
   "metadata": {},
   "outputs": [],
   "source": [
    "computeProjectionMatrix(data.K, R,C)"
   ]
  },
  {
   "cell_type": "code",
   "execution_count": null,
   "metadata": {},
   "outputs": [],
   "source": [
    "PM(data.K, R,C)"
   ]
  },
  {
   "cell_type": "code",
   "execution_count": null,
   "metadata": {},
   "outputs": [],
   "source": [
    "ProjectionMatrix(R,C,data.K)"
   ]
  },
  {
   "cell_type": "code",
   "execution_count": null,
   "metadata": {},
   "outputs": [],
   "source": [
    "import scipy.optimize as optimize\n",
    "def NonLinearTriangulation(K, pts1, pts2, x3D, R1, C1, R2, C2):\n",
    "    \"\"\"    \n",
    "    K : Camera Matrix\n",
    "    pts1, pts2 : Point Correspondences\n",
    "    x3D :  initial 3D point \n",
    "    R2, C2 : relative camera pose\n",
    "    Returns:\n",
    "        x3D : optimized 3D points\n",
    "    \"\"\"\n",
    "    \n",
    "    P1 = ProjectionMatrix(R1,C1,K) \n",
    "    P2 = ProjectionMatrix(R2,C2,K)\n",
    "    # pts1, pts2, x3D = pts1, pts2, x3D\n",
    "    \n",
    "    if pts1.shape[0] != pts2.shape[0] != x3D.shape[0]:\n",
    "        raise 'Check point dimensions - level nlt'\n",
    "\n",
    "    x3D_ = []\n",
    "    for i in range(len(x3D)):\n",
    "        optimized_params = optimize.least_squares(fun=ReprojectionLoss, x0=x3D[i], method=\"trf\", args=[pts1[i], pts2[i], P1, P2])\n",
    "        X1 = optimized_params.x\n",
    "        x3D_.append(X1)\n",
    "        # x3D_.append(X1[:3])\n",
    "    return np.array(x3D_)\n",
    "\n",
    "\n",
    "def ReprojectionLoss(X, pts1, pts2, P1, P2):\n",
    "    \n",
    "    # X = homo(X.reshape(1,-1)).reshape(-1,1) # make X a column of homogenous vector\n",
    "    \n",
    "    p1_1T, p1_2T, p1_3T = P1 # rows of P1\n",
    "    p1_1T, p1_2T, p1_3T = p1_1T.reshape(1,-1), p1_2T.reshape(1,-1),p1_3T.reshape(1,-1)\n",
    "\n",
    "    p2_1T, p2_2T, p2_3T = P2 # rows of P2\n",
    "    p2_1T, p2_2T, p2_3T = p2_1T.reshape(1,-1), p2_2T.reshape(1,-1), p2_3T.reshape(1,-1)\n",
    "\n",
    "    ## reprojection error for reference camera points - j = 1\n",
    "    u1,v1 = pts1[0], pts1[1]\n",
    "    u1_proj = np.divide(p1_1T.dot(X) , p1_3T.dot(X))\n",
    "    v1_proj =  np.divide(p1_2T.dot(X) , p1_3T.dot(X))\n",
    "    E1= np.square(v1 - v1_proj) + np.square(u1 - u1_proj)\n",
    "\n",
    "    \n",
    "    ## reprojection error for second camera points - j = 2    \n",
    "    u2,v2 = pts2[0], pts2[1]\n",
    "    u2_proj = np.divide(p2_1T.dot(X) , p2_3T.dot(X))\n",
    "    v2_proj =  np.divide(p2_2T.dot(X) , p2_3T.dot(X))    \n",
    "    E2= np.square(v2 - v2_proj) + np.square(u2 - u2_proj)\n",
    "    \n",
    "    error = E1 + E2\n",
    "    return error.squeeze()"
   ]
  },
  {
   "cell_type": "code",
   "execution_count": null,
   "metadata": {},
   "outputs": [],
   "source": [
    "new = new / new[:,3][...,None]"
   ]
  },
  {
   "cell_type": "code",
   "execution_count": null,
   "metadata": {},
   "outputs": [],
   "source": [
    "X = NonLinearTriangulation(data.K,pts1, pts2, new,camera_rotations[0], camera_translations[0], R,C )"
   ]
  },
  {
   "cell_type": "code",
   "execution_count": null,
   "metadata": {},
   "outputs": [],
   "source": [
    "(X/X[:,3].reshape(-1,1)).min()"
   ]
  },
  {
   "cell_type": "code",
   "execution_count": null,
   "metadata": {},
   "outputs": [],
   "source": [
    "import scipy.optimize as optimize\n",
    "import numpy as np\n",
    "\n",
    "def NonLinearPnP(K, pts, x3D, R0, C0):\n",
    "    \"\"\"    \n",
    "    K : Camera Matrix\n",
    "    pts1, pts2 : Point Correspondences\n",
    "    x3D :  initial 3D point \n",
    "    R2, C2 : relative camera pose - estimated from PnP\n",
    "    Returns:\n",
    "        x3D : optimized 3D points\n",
    "    \"\"\"\n",
    "\n",
    "    Q = Rotation.from_matrix(R0).as_quat()\n",
    "    X0 = [Q[0] ,Q[1],Q[2],Q[3], C0[0], C0[1], C0[2]] \n",
    "\n",
    "    optimized_params = optimize.least_squares(\n",
    "        fun = PnPLoss,\n",
    "        x0=X0,\n",
    "        method=\"trf\",\n",
    "        args=[x3D, pts, K])\n",
    "    X1 = optimized_params.x\n",
    "    Q = X1[:4]\n",
    "    C = X1[4:]\n",
    "    R = Rotation.from_quat(Q).as_matrix()\n",
    "    return R, C\n",
    "\n",
    "def PnPLoss(X0, x3D, pts, K):\n",
    "    \n",
    "    Q, C = X0[:4], X0[4:].reshape(-1,1)\n",
    "    R = Rotation.from_quat(Q).as_matrix()\n",
    "    P = computeProjectionMatrix(K,R,C)\n",
    "    \n",
    "    Error = []\n",
    "    for X, pt in zip(x3D, pts):\n",
    "\n",
    "        p_1T, p_2T, p_3T = P# rows of P\n",
    "        p_1T, p_2T, p_3T = p_1T.reshape(1,-1), p_2T.reshape(1,-1), p_3T.reshape(1,-1)\n",
    "\n",
    "\n",
    "        X = to_homogeneous(X.reshape(1,-1)).reshape(-1,1) # make X it a column of homogenous vector\n",
    "        ## reprojection error for reference camera points \n",
    "        u, v = pt[0], pt[1]\n",
    "        u_proj = np.divide(p_1T.dot(X) , p_3T.dot(X))\n",
    "        v_proj =  np.divide(p_2T.dot(X) , p_3T.dot(X))\n",
    "\n",
    "        E = np.square(v - v_proj) + np.square(u - u_proj)\n",
    "\n",
    "        Error.append(E)\n",
    "\n",
    "    sumError = np.mean(np.array(Error).squeeze())\n",
    "    return sumError"
   ]
  },
  {
   "cell_type": "code",
   "execution_count": null,
   "metadata": {},
   "outputs": [],
   "source": [
    "R,C = DLT_PnP(corr_points, X_new, data.K)"
   ]
  },
  {
   "cell_type": "code",
   "execution_count": null,
   "metadata": {},
   "outputs": [],
   "source": [
    "R"
   ]
  },
  {
   "cell_type": "code",
   "execution_count": null,
   "metadata": {},
   "outputs": [],
   "source": [
    "C"
   ]
  },
  {
   "cell_type": "code",
   "execution_count": null,
   "metadata": {},
   "outputs": [],
   "source": [
    "Rn,Cn = NonLinearPnP(data.K, corr_points, X_new, R,C)"
   ]
  },
  {
   "cell_type": "code",
   "execution_count": null,
   "metadata": {},
   "outputs": [],
   "source": [
    "Rn"
   ]
  },
  {
   "cell_type": "code",
   "execution_count": null,
   "metadata": {},
   "outputs": [],
   "source": [
    "Cn"
   ]
  },
  {
   "cell_type": "code",
   "execution_count": null,
   "metadata": {},
   "outputs": [],
   "source": [
    "R"
   ]
  },
  {
   "cell_type": "code",
   "execution_count": null,
   "metadata": {},
   "outputs": [],
   "source": [
    "C"
   ]
  },
  {
   "cell_type": "code",
   "execution_count": null,
   "metadata": {},
   "outputs": [],
   "source": [
    "X = linearTriangulation(pts1, pts2)"
   ]
  },
  {
   "cell_type": "code",
   "execution_count": null,
   "metadata": {},
   "outputs": [],
   "source": [
    "pts1.shape"
   ]
  },
  {
   "cell_type": "code",
   "execution_count": null,
   "metadata": {},
   "outputs": [],
   "source": [
    "pts2.shape"
   ]
  },
  {
   "cell_type": "code",
   "execution_count": null,
   "metadata": {},
   "outputs": [],
   "source": [
    "pts1"
   ]
  },
  {
   "cell_type": "code",
   "execution_count": null,
   "metadata": {},
   "outputs": [],
   "source": [
    "appended_ids[:3]"
   ]
  },
  {
   "cell_type": "code",
   "execution_count": null,
   "metadata": {},
   "outputs": [],
   "source": [
    "images_to_add[:3]"
   ]
  },
  {
   "cell_type": "code",
   "execution_count": null,
   "metadata": {},
   "outputs": [],
   "source": [
    "appended_ids"
   ]
  },
  {
   "cell_type": "code",
   "execution_count": null,
   "metadata": {},
   "outputs": [],
   "source": [
    "images_to_add"
   ]
  },
  {
   "cell_type": "code",
   "execution_count": null,
   "metadata": {},
   "outputs": [],
   "source": [
    "pts2"
   ]
  },
  {
   "cell_type": "code",
   "execution_count": null,
   "metadata": {},
   "outputs": [],
   "source": []
  }
 ],
 "metadata": {
  "kernelspec": {
   "display_name": "dl_pytorch",
   "language": "python",
   "name": "python3"
  },
  "language_info": {
   "codemirror_mode": {
    "name": "ipython",
    "version": 3
   },
   "file_extension": ".py",
   "mimetype": "text/x-python",
   "name": "python",
   "nbconvert_exporter": "python",
   "pygments_lexer": "ipython3",
   "version": "3.8.0"
  }
 },
 "nbformat": 4,
 "nbformat_minor": 2
}
