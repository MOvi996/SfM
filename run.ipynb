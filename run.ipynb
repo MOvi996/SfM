{
 "cells": [
  {
   "cell_type": "code",
   "execution_count": 1,
   "metadata": {},
   "outputs": [],
   "source": [
    "from dataloader import Dataset\n",
    "from utils import * \n",
    "\n",
    "data = Dataset(\"Stage_1_Data_ver._3/stage1/box\")\n",
    "data.load_data()\n",
    "\n",
    "visibility = data.visibility"
   ]
  },
  {
   "cell_type": "code",
   "execution_count": 2,
   "metadata": {},
   "outputs": [],
   "source": [
    "from scipy.spatial.transform import Rotation \n",
    "from scipy.sparse import lil_matrix\n",
    "import time\n",
    "from scipy.optimize import least_squares\n",
    "def computeCurrentVisibility(visibility, reconstructed_ind, num_views, appended_ids):\n",
    "\n",
    "    X_indices = (reconstructed_ind == 1)[:,0]\n",
    "    current_visibility = visibility[:,appended_ids[:num_views]][X_indices]\n",
    "    \n",
    "    return X_indices, current_visibility\n",
    "\n",
    "def computeCurrent2DPoints(X_indices, points_2d, appended_ids, current_visibility):\n",
    "    \n",
    "    current_2d_points = points_2d[:, appended_ids[:current_visibility.shape[1]]][X_indices]\n",
    "    point_indices, camera_indices = current_visibility.nonzero()\n",
    "    return current_2d_points[point_indices, camera_indices], point_indices, camera_indices\n",
    "    \n",
    "def projectFromCameras(X, cam_params, camera_indices, point_indices, K):\n",
    "\n",
    "    projected = np.zeros((X.shape[0], cam_params.shape[0], 3))\n",
    "\n",
    "    for camera in range(cam_params.shape[0]):\n",
    "\n",
    "        R = Rotation.from_rotvec(cam_params[camera,:3]).as_matrix()\n",
    "        C = cam_params[camera, 3:]\n",
    "        P = computeProjectionMatrix(K, R, C)\n",
    "        \n",
    "        projected[:, camera] = projectPoint(P, X)\n",
    "\n",
    "    return projected[point_indices, camera_indices][:,:2]\n",
    "\n",
    "def objective(x0, num_views, n_points, camera_indices, point_indices, points_2d, K):\n",
    "    \n",
    "    camera_params = x0[:num_views * 6].reshape((num_views, 6))\n",
    "    points_3d = x0[num_views * 6:].reshape((n_points, 3))\n",
    "    points_proj = projectFromCameras(points_3d, camera_params,camera_indices,point_indices,K)\n",
    "    error_vec = (points_proj - points_2d).ravel()\n",
    "\n",
    "    return error_vec\n",
    "\n",
    "def bundle_adjustment_sparsity(num_views, n_points, camera_indices, point_indices):\n",
    "    m = camera_indices.size * 2\n",
    "    n = num_views * 6 + n_points * 3\n",
    "    A = lil_matrix((m, n), dtype=int)\n",
    "\n",
    "    i = np.arange(camera_indices.size)\n",
    "    for s in range(6):\n",
    "        A[2 * i, camera_indices * 6 + s] = 1\n",
    "        A[2 * i + 1, camera_indices * 6 + s] = 1\n",
    "\n",
    "    for s in range(3):\n",
    "        A[2 * i, num_views * 6 + point_indices * 3 + s] = 1\n",
    "        A[2 * i + 1, num_views * 6 + point_indices * 3 + s] = 1\n",
    "\n",
    "    return A\n",
    "\n",
    "def bundleAdjustment(X_reconstructed, reconstructed_ind, points_2d, visibility, camera_rotations, camera_translations, K, num_views, appended_ids):\n",
    "    \n",
    "    X_indices, current_visibility = computeCurrentVisibility(visibility, reconstructed_ind, num_views, appended_ids)\n",
    "    X_3d = X_reconstructed[X_indices]\n",
    "    n_points = X_3d.shape[0]\n",
    "    X_2d,point_indices, camera_indices = computeCurrent2DPoints(X_indices, points_2d, appended_ids, current_visibility)\n",
    "\n",
    "    cam_param_list = []\n",
    "    for i in range(num_views):\n",
    "        R, C = camera_rotations[i], camera_translations[i]\n",
    "        rotvec = Rotation.from_matrix(R).as_rotvec()\n",
    "        RC = [rotvec[0], rotvec[1], rotvec[2], C[0], C[1], C[2]]\n",
    "        cam_param_list.append(RC)\n",
    "\n",
    "    cam_param_list = np.array(cam_param_list).reshape(-1, 6)\n",
    "\n",
    "    x0 = np.hstack((cam_param_list.ravel(), X_3d.ravel()))\n",
    "\n",
    "    A = bundle_adjustment_sparsity(num_views,n_points, camera_indices, point_indices)\n",
    "    res = least_squares(objective, x0, jac_sparsity=A, verbose=0, x_scale='jac', max_nfev=500, method='trf',\n",
    "                        args=(num_views, n_points, camera_indices, point_indices,X_2d, K))\n",
    "    \n",
    "    optimized_params = res.x\n",
    "    optimized_RC = optimized_params[:num_views * 6].reshape((num_views, 6))\n",
    "    optimized_3d = optimized_params[num_views * 6:].reshape((n_points, 3))\n",
    "\n",
    "    optimized_X = np.zeros_like(X_reconstructed)\n",
    "    optimized_X[X_indices] = optimized_3d\n",
    "\n",
    "    optimized_camera_rotations, optimized_camera_translation = [], []\n",
    "    for i in range(len(optimized_RC)):\n",
    "        R = Rotation.from_rotvec(optimized_RC[i, :3]).as_matrix()\n",
    "        C = optimized_RC[i, 3:].reshape(3,1)\n",
    "        optimized_camera_translation.append(C)\n",
    "        optimized_camera_rotations.append(R)\n",
    "\n",
    "    return optimized_X, optimized_camera_rotations, optimized_camera_rotations\n"
   ]
  },
  {
   "cell_type": "code",
   "execution_count": 3,
   "metadata": {},
   "outputs": [],
   "source": [
    "images_to_add, appended_ids = data.computeSceneGraph()"
   ]
  },
  {
   "cell_type": "code",
   "execution_count": 4,
   "metadata": {},
   "outputs": [],
   "source": [
    "\n",
    "indices    = np.logical_and(visibility[:,appended_ids[0]], visibility[:,appended_ids[1]])\n",
    "pts1, pts2 = data.points[indices, appended_ids[0]], data.points[indices, appended_ids[1]]\n",
    "E, best_criterion = estimate_essential_matrix(pts1, pts2, data.K)\n",
    "rotations, translations = extract_cam_pose(E, data.K)\n",
    "rot, trans = decomposeEssentialMat(E)\n",
    "points_3d = []\n",
    "for i in range(4):\n",
    "    P1 = computeProjectionMatrix(data.K, np.identity(3), np.zeros((3,)))\n",
    "    P2 = computeProjectionMatrix(data.K, rotations[i], translations[i])\n",
    "    points_3d.append(linearTriangulation(pts1, pts2, P1, P2))\n",
    "\n",
    "X,R,C = cheiralityCondition(points_3d, rotations, translations)\n",
    "\n",
    "X_reconstructed   = np.zeros((data.points.shape[0], 3))\n",
    "reconstructed_ind = np.zeros((data.points.shape[0], 1))\n",
    "\n",
    "X_reconstructed[indices] = X\n",
    "reconstructed_ind[(X_reconstructed[:,2] > 0)] = 1\n",
    "\n",
    "camera_rotations    = []\n",
    "camera_translations = []\n",
    "camera_rotations.append(np.eye(3))\n",
    "camera_rotations.append(R)\n",
    "camera_translations.append(np.zeros((3,)))\n",
    "camera_translations.append(C)\n"
   ]
  },
  {
   "cell_type": "code",
   "execution_count": 10,
   "metadata": {},
   "outputs": [
    {
     "name": "stdout",
     "output_type": "stream",
     "text": [
      "9791.881949024728 -13932.884166495127\n"
     ]
    }
   ],
   "source": [
    "for next_image in range(2, 3):\n",
    "\n",
    "    visibility_points = data.visibility[:, appended_ids[next_image]][...,None]\n",
    "    new_points        = data.points[:,appended_ids[next_image]]\n",
    "    indices           = np.logical_and(reconstructed_ind, visibility_points)[:,0]\n",
    "\n",
    "    X_new       = X_reconstructed[indices]\n",
    "    corr_points = new_points[indices]\n",
    "\n",
    "    R_new, C_new = DLT_PnP(corr_points, X_new, data.K)\n",
    "    camera_rotations.append(R_new)\n",
    "    camera_translations.append(C_new[:,0])\n",
    "    overlap = []\n",
    "    for previous_images in range(next_image):\n",
    "        \n",
    "        indices = np.logical_and(np.logical_and(visibility[:,appended_ids[previous_images]][...,None], \n",
    "                                                visibility[:,appended_ids[next_image]][...,None]), 1 - reconstructed_ind)[:,0]\n",
    "        overlap.append(np.logical_and(visibility[:,appended_ids[previous_images]][...,None],visibility[:,appended_ids[next_image]][...,None]))\n",
    "        pts1, pts2 = data.points[indices, appended_ids[previous_images]], data.points[indices, appended_ids[next_image]]\n",
    "        P1 = computeProjectionMatrix(data.K, camera_rotations[previous_images], camera_translations[previous_images])\n",
    "        P2 = computeProjectionMatrix(data.K, R_new, C_new)\n",
    "        points_3d = linearTriangulation(pts1, pts2, P1, P2)\n",
    "        X_reconstructed[indices]   = points_3d\n",
    "        reconstructed_ind[indices] = 1\n",
    "    \n",
    "    print(X_reconstructed.max(), X_reconstructed.min())\n",
    "    X_reconstructed,camera_rotations,camera_translations = bundleAdjustment(X_reconstructed,reconstructed_ind,\n",
    "                                                                            data.points,data.visibility,camera_rotations,\n",
    "                                                                            camera_translations, data.K, next_image +1, appended_ids)\n",
    "    \n",
    "    \n",
    "    \n",
    "\n",
    "    "
   ]
  },
  {
   "cell_type": "code",
   "execution_count": 5,
   "metadata": {},
   "outputs": [
    {
     "data": {
      "text/plain": [
       "-7237.25493442442"
      ]
     },
     "execution_count": 5,
     "metadata": {},
     "output_type": "execute_result"
    }
   ],
   "source": [
    "X_reconstructed.min()"
   ]
  },
  {
   "cell_type": "code",
   "execution_count": 6,
   "metadata": {},
   "outputs": [
    {
     "data": {
      "text/plain": [
       "10146.392625340175"
      ]
     },
     "execution_count": 6,
     "metadata": {},
     "output_type": "execute_result"
    }
   ],
   "source": [
    "X_reconstructed.max()"
   ]
  },
  {
   "cell_type": "code",
   "execution_count": 7,
   "metadata": {},
   "outputs": [],
   "source": [
    "import  struct\n",
    "def write_pointcloud(filename,xyz_points,rgb_points=None):\n",
    "\n",
    "    \"\"\" creates a .pkl file of the point clouds generated\n",
    "    \"\"\"\n",
    "\n",
    "    assert xyz_points.shape[1] == 3,'Input XYZ points should be Nx3 float array'\n",
    "    if rgb_points is None:\n",
    "        rgb_points = np.ones(xyz_points.shape).astype(np.uint8)*255\n",
    "    assert xyz_points.shape == rgb_points.shape,'Input RGB colors should be Nx3 float array and have same size as input XYZ points'\n",
    "\n",
    "    # Write header of .ply file\n",
    "    fid = open(filename,'wb')\n",
    "    fid.write(bytes('ply\\n', 'utf-8'))\n",
    "    fid.write(bytes('format binary_little_endian 1.0\\n', 'utf-8'))\n",
    "    fid.write(bytes('element vertex %d\\n'%xyz_points.shape[0], 'utf-8'))\n",
    "    fid.write(bytes('property float x\\n', 'utf-8'))\n",
    "    fid.write(bytes('property float y\\n', 'utf-8'))\n",
    "    fid.write(bytes('property float z\\n', 'utf-8'))\n",
    "    fid.write(bytes('property uchar red\\n', 'utf-8'))\n",
    "    fid.write(bytes('property uchar green\\n', 'utf-8'))\n",
    "    fid.write(bytes('property uchar blue\\n', 'utf-8'))\n",
    "    fid.write(bytes('end_header\\n', 'utf-8'))\n",
    "\n",
    "    # Write 3D points to .ply file\n",
    "    for i in range(xyz_points.shape[0]):\n",
    "        fid.write(bytearray(struct.pack(\"fffccc\",xyz_points[i,0],xyz_points[i,1],xyz_points[i,2],\n",
    "                                        rgb_points[i,0].tostring(),rgb_points[i,1].tostring(),\n",
    "                                        rgb_points[i,2].tostring())))\n",
    "    fid.close()\n"
   ]
  },
  {
   "cell_type": "code",
   "execution_count": 8,
   "metadata": {},
   "outputs": [],
   "source": [
    "X = X_reconstructed[(reconstructed_ind == 1)[...,0]]\n",
    "c = data.colors[(reconstructed_ind == 1)[...,0]]"
   ]
  },
  {
   "cell_type": "code",
   "execution_count": 9,
   "metadata": {},
   "outputs": [
    {
     "name": "stderr",
     "output_type": "stream",
     "text": [
      "/tmp/ipykernel_21842/1081315607.py:28: DeprecationWarning: tostring() is deprecated. Use tobytes() instead.\n",
      "  rgb_points[i,0].tostring(),rgb_points[i,1].tostring(),\n",
      "/tmp/ipykernel_21842/1081315607.py:29: DeprecationWarning: tostring() is deprecated. Use tobytes() instead.\n",
      "  rgb_points[i,2].tostring())))\n"
     ]
    }
   ],
   "source": [
    "write_pointcloud(\"two_views.ply\", X, c)"
   ]
  },
  {
   "cell_type": "code",
   "execution_count": null,
   "metadata": {},
   "outputs": [],
   "source": []
  }
 ],
 "metadata": {
  "kernelspec": {
   "display_name": "dl_pytorch",
   "language": "python",
   "name": "python3"
  },
  "language_info": {
   "codemirror_mode": {
    "name": "ipython",
    "version": 3
   },
   "file_extension": ".py",
   "mimetype": "text/x-python",
   "name": "python",
   "nbconvert_exporter": "python",
   "pygments_lexer": "ipython3",
   "version": "3.8.0"
  }
 },
 "nbformat": 4,
 "nbformat_minor": 2
}
