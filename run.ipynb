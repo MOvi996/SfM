{
 "cells": [
  {
   "cell_type": "code",
   "execution_count": 1,
   "metadata": {},
   "outputs": [],
   "source": [
    "from dataloader import Dataset\n",
    "from utils import * \n",
    "\n",
    "data = Dataset(\"Stage_1_Data_ver._3/stage1/box\")\n",
    "data.load_data()\n",
    "\n",
    "visibility = data.visibility\n",
    "indices    = np.logical_and(visibility[:,0], visibility[:,1])\n",
    "pts1, pts2 = data.points[indices, 0], data.points[indices, 1]"
   ]
  },
  {
   "cell_type": "code",
   "execution_count": 2,
   "metadata": {},
   "outputs": [
    {
     "name": "stdout",
     "output_type": "stream",
     "text": [
      "(3, 3)\n"
     ]
    }
   ],
   "source": [
    "E12, best_criterion = estimate_essential_matrix(pts1, pts2, data.K)\n",
    "rotations, translations = extract_cam_pose(E12, data.K)\n",
    "rot, trans = decomposeEssentialMat(E12)\n"
   ]
  },
  {
   "cell_type": "code",
   "execution_count": 3,
   "metadata": {},
   "outputs": [
    {
     "data": {
      "text/plain": [
       "39"
      ]
     },
     "execution_count": 3,
     "metadata": {},
     "output_type": "execute_result"
    }
   ],
   "source": [
    "best_criterion"
   ]
  },
  {
   "cell_type": "code",
   "execution_count": 4,
   "metadata": {},
   "outputs": [],
   "source": [
    "points_3d = []\n",
    "for i in range(4):\n",
    "    P1 = computeProjectionMatrix(data.K, np.eye(3), np.zeros((3,)))\n",
    "    P2 = computeProjectionMatrix(data.K, rotations[i], translations[i])\n",
    "    points_3d.append(linearTriangulation(pts1, pts2, P1, P2))"
   ]
  },
  {
   "cell_type": "code",
   "execution_count": 5,
   "metadata": {},
   "outputs": [],
   "source": [
    "X,R,C = cheiralityCondition(points_3d, rotations, translations)"
   ]
  },
  {
   "cell_type": "code",
   "execution_count": 6,
   "metadata": {},
   "outputs": [],
   "source": [
    "X_reconstructed   = np.zeros((data.points.shape[0], 3))\n",
    "reconstructed_ind = np.zeros((data.points.shape[0], 1))"
   ]
  },
  {
   "cell_type": "code",
   "execution_count": 7,
   "metadata": {},
   "outputs": [],
   "source": [
    "camera_rotations    = []\n",
    "camera_translations = []"
   ]
  },
  {
   "cell_type": "code",
   "execution_count": 8,
   "metadata": {},
   "outputs": [],
   "source": [
    "X_reconstructed[indices] = X\n",
    "reconstructed_ind[indices] = 1\n"
   ]
  },
  {
   "cell_type": "code",
   "execution_count": 9,
   "metadata": {},
   "outputs": [],
   "source": [
    "camera_rotations.append(np.eye(3))\n",
    "camera_rotations.append(R)\n",
    "camera_translations.append(np.zeros((3,)))\n",
    "camera_translations.append(C)\n"
   ]
  },
  {
   "cell_type": "code",
   "execution_count": 10,
   "metadata": {},
   "outputs": [
    {
     "name": "stdout",
     "output_type": "stream",
     "text": [
      "2\n"
     ]
    }
   ],
   "source": [
    "for image_number in range(2, data.N_images):\n",
    "    print(image_number)\n",
    "    \n",
    "    visibility_points = data.visibility[:, image_number][...,None]\n",
    "    new_points        = data.points[:,image_number]\n",
    "    indices = np.logical_and(reconstructed_ind, visibility_points)[:,0]\n",
    "\n",
    "    X_new       = X_reconstructed[indices]\n",
    "    corr_points = new_points[indices]\n",
    "    break\n",
    "    "
   ]
  },
  {
   "cell_type": "code",
   "execution_count": 11,
   "metadata": {},
   "outputs": [],
   "source": [
    "X_new_homo = to_homogeneous(X_new)\n",
    "corr_points_homo = to_homogeneous(corr_points)"
   ]
  },
  {
   "cell_type": "code",
   "execution_count": 77,
   "metadata": {},
   "outputs": [],
   "source": [
    "def reprojection_error(x,X_homo, K,R,C):\n",
    "\n",
    "    P = computeProjectionMatrix(K,R,C)\n",
    "\n",
    "    proj    = np.matmul(P, X_homo.T).T\n",
    "    proj    = proj / proj[:,2][...,None]\n",
    "    proj_2d = proj[:,:2]\n",
    "    \n",
    "    error = ((x - proj_2d)**2).sum(axis = 1)\n",
    "    return error.mean()\n",
    "\n",
    "def DLT_PnP(points_2d, points_3d, K):\n",
    "\n",
    "    points_2d_homogeneous = to_homogeneous(points_2d)\n",
    "    points_3d_homogeneous = to_homogeneous(points_3d)\n",
    "    K_inv = np.linalg.inv(K)\n",
    "    points_2d_camera = apply_K_inv(K_inv, points_2d_homogeneous)\n",
    "\n",
    "    N_points = points_2d_homogeneous.shape[0]\n",
    "    if N_points == 6:\n",
    "        num_iters = 1\n",
    "    else:\n",
    "        num_iters = 2000\n",
    "    \n",
    "    best_R = None\n",
    "    best_C = None\n",
    "    best_criterion = np.inf\n",
    "    for i in range(num_iters):\n",
    "        \n",
    "        points = np.random.choice(N_points,6, replace= False)\n",
    "        camera_2d     = points_2d_camera[points]\n",
    "        homogenous_3d = points_3d_homogeneous[points]\n",
    "\n",
    "        A = np.zeros((12, 12))\n",
    "        for p in range(6):\n",
    "            A[2*p] = np.concatenate([ np.zeros(4,), -homogenous_3d[p] , camera_2d[p,1]*homogenous_3d[p]])\n",
    "            A[(2*p) + 1] = np.concatenate([homogenous_3d[p],np.zeros(4,) , -camera_2d[p,0]*homogenous_3d[p]])\n",
    "            \n",
    "        U,S,V = np.linalg.svd(A)\n",
    "        P = V[-1].reshape((3, 4))\n",
    "        R = P[:, :3]\n",
    "        u, s, v = np.linalg.svd(R) # to enforce Orthonormality\n",
    "        R = u @ v\n",
    "\n",
    "        C = P[:, 3].reshape((-1,1))\n",
    "        C = np.matmul(- np.linalg.inv(R),C)\n",
    "        if np.linalg.det(R) < 0:\n",
    "            R = -R\n",
    "            C = -C\n",
    "        \n",
    "        error = reprojection_error(points_2d[points], homogenous_3d, K,R,C)\n",
    "\n",
    "        if error < best_criterion:\n",
    "            best_criterion = error\n",
    "            best_C = C\n",
    "            best_R = R\n",
    "\n",
    "    return best_R, best_C\n",
    "            \n",
    "        "
   ]
  },
  {
   "cell_type": "code",
   "execution_count": 78,
   "metadata": {},
   "outputs": [
    {
     "name": "stdout",
     "output_type": "stream",
     "text": [
      "445302.69744325866\n",
      "270425.39530188614\n",
      "122238.09470511368\n",
      "9971.192828254856\n"
     ]
    }
   ],
   "source": [
    "R,t = DLT_PnP(corr_points,X_new, data.K)"
   ]
  },
  {
   "cell_type": "code",
   "execution_count": 79,
   "metadata": {},
   "outputs": [
    {
     "data": {
      "text/plain": [
       "array([[ 0.97494987, -0.22187048, -0.01569227],\n",
       "       [ 0.21870572,  0.9691071 , -0.11401419],\n",
       "       [ 0.04050387,  0.10772613,  0.99335518]])"
      ]
     },
     "execution_count": 79,
     "metadata": {},
     "output_type": "execute_result"
    }
   ],
   "source": [
    "R"
   ]
  },
  {
   "cell_type": "code",
   "execution_count": 80,
   "metadata": {},
   "outputs": [
    {
     "data": {
      "text/plain": [
       "array([[-0.05300088],\n",
       "       [ 0.12234486],\n",
       "       [ 0.16096744]])"
      ]
     },
     "execution_count": 80,
     "metadata": {},
     "output_type": "execute_result"
    }
   ],
   "source": [
    "t"
   ]
  },
  {
   "cell_type": "code",
   "execution_count": null,
   "metadata": {},
   "outputs": [],
   "source": []
  }
 ],
 "metadata": {
  "kernelspec": {
   "display_name": "dl_pytorch",
   "language": "python",
   "name": "python3"
  },
  "language_info": {
   "codemirror_mode": {
    "name": "ipython",
    "version": 3
   },
   "file_extension": ".py",
   "mimetype": "text/x-python",
   "name": "python",
   "nbconvert_exporter": "python",
   "pygments_lexer": "ipython3",
   "version": "3.8.0"
  }
 },
 "nbformat": 4,
 "nbformat_minor": 2
}
