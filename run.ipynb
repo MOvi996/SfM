{
 "cells": [
  {
   "cell_type": "code",
   "execution_count": 1,
   "metadata": {},
   "outputs": [],
   "source": [
    "from dataloader import Dataset\n",
    "from utils import * \n",
    "\n",
    "data = Dataset(\"Stage_1_Data_ver_4/stage1/box\")\n",
    "data.load_data_new()"
   ]
  },
  {
   "cell_type": "code",
   "execution_count": 2,
   "metadata": {},
   "outputs": [],
   "source": [
    "images_to_add = data.images\n",
    "appended_ids = np.arange(data.N_images)\n",
    "\n"
   ]
  },
  {
   "cell_type": "code",
   "execution_count": 3,
   "metadata": {},
   "outputs": [],
   "source": [
    "from scipy.spatial.transform import Rotation \n",
    "from scipy.sparse import lil_matrix\n",
    "import time\n",
    "from scipy.optimize import least_squares\n",
    "def computeCurrentVisibility(visibility, reconstructed_ind, num_views, appended_ids):\n",
    "\n",
    "    X_indices = (reconstructed_ind == 1)[:,0]\n",
    "    current_visibility = visibility[:,appended_ids[:num_views]][X_indices]\n",
    "    \n",
    "    return X_indices, current_visibility\n",
    "\n",
    "def computeCurrent2DPoints(X_indices, points_2d, appended_ids, current_visibility):\n",
    "    \n",
    "    current_2d_points = points_2d[:, appended_ids[:current_visibility.shape[1]]][X_indices]\n",
    "    point_indices, camera_indices = current_visibility.nonzero()\n",
    "    return current_2d_points[point_indices, camera_indices], point_indices, camera_indices\n",
    "    \n",
    "def projectFromCameras(X, cam_params, camera_indices, point_indices, K):\n",
    "\n",
    "    projected = np.zeros((X.shape[0], cam_params.shape[0], 3))\n",
    "\n",
    "    for camera in range(cam_params.shape[0]):\n",
    "\n",
    "        R = Rotation.from_rotvec(cam_params[camera,:3]).as_matrix()\n",
    "        C = cam_params[camera, 3:]\n",
    "        P = computeProjectionMatrix(K, R, C)\n",
    "        \n",
    "        projected[:, camera] = projectPoint(P, X)\n",
    "\n",
    "    return projected[point_indices, camera_indices][:,:2]\n",
    "\n",
    "def objective(x0, num_views, n_points, camera_indices, point_indices, points_2d, K):\n",
    "    \n",
    "    camera_params = x0[:num_views * 6].reshape((num_views, 6))\n",
    "    points_3d = x0[num_views * 6:].reshape((n_points, 3))\n",
    "    points_proj = projectFromCameras(points_3d, camera_params,camera_indices,point_indices,K)\n",
    "    error_vec = (points_proj - points_2d).ravel()\n",
    "\n",
    "    return error_vec\n",
    "\n",
    "def bundle_adjustment_sparsity(num_views, n_points, camera_indices, point_indices):\n",
    "    m = camera_indices.size * 2\n",
    "    n = num_views * 6 + n_points * 3\n",
    "    A = lil_matrix((m, n), dtype=int)\n",
    "\n",
    "    i = np.arange(camera_indices.size)\n",
    "    for s in range(6):\n",
    "        A[2 * i, camera_indices * 6 + s] = 1\n",
    "        A[2 * i + 1, camera_indices * 6 + s] = 1\n",
    "\n",
    "    for s in range(3):\n",
    "        A[2 * i, num_views * 6 + point_indices * 3 + s] = 1\n",
    "        A[2 * i + 1, num_views * 6 + point_indices * 3 + s] = 1\n",
    "\n",
    "    return A\n",
    "\n",
    "def bundleAdjustment(X_reconstructed, reconstructed_ind, points_2d, visibility, camera_rotations, camera_translations, K, num_views, appended_ids):\n",
    "    \n",
    "    X_indices, current_visibility = computeCurrentVisibility(visibility, reconstructed_ind, num_views, appended_ids)\n",
    "    X_3d = X_reconstructed[X_indices]\n",
    "    n_points = X_3d.shape[0]\n",
    "    X_2d,point_indices, camera_indices = computeCurrent2DPoints(X_indices, points_2d, appended_ids, current_visibility)\n",
    "\n",
    "    cam_param_list = []\n",
    "    for i in range(num_views):\n",
    "        R, C = camera_rotations[i], camera_translations[i]\n",
    "        rotvec = Rotation.from_matrix(R).as_rotvec()\n",
    "        RC = [rotvec[0], rotvec[1], rotvec[2], C[0], C[1], C[2]]\n",
    "        cam_param_list.append(RC)\n",
    "\n",
    "    cam_param_list = np.array(cam_param_list).reshape(-1, 6)\n",
    "\n",
    "    x0 = np.hstack((cam_param_list.ravel(), X_3d.ravel()))\n",
    "\n",
    "    A = bundle_adjustment_sparsity(num_views,n_points, camera_indices, point_indices)\n",
    "    res = least_squares(objective, x0, jac_sparsity=A, verbose=0, x_scale='jac', max_nfev=100, method='trf',\n",
    "                        args=(num_views, n_points, camera_indices, point_indices,X_2d, K))\n",
    "    \n",
    "    optimized_params = res.x\n",
    "    optimized_RC = optimized_params[:num_views * 6].reshape((num_views, 6))\n",
    "    optimized_3d = optimized_params[num_views * 6:].reshape((n_points, 3))\n",
    "\n",
    "    optimized_X = np.zeros_like(X_reconstructed)\n",
    "    optimized_X[X_indices] = optimized_3d\n",
    "\n",
    "    optimized_camera_rotations, optimized_camera_translation = [], []\n",
    "    for i in range(len(optimized_RC)):\n",
    "        R = Rotation.from_rotvec(optimized_RC[i, :3]).as_matrix()\n",
    "        C = optimized_RC[i, 3:].reshape(3,1)\n",
    "        optimized_camera_translation.append(C)\n",
    "        optimized_camera_rotations.append(R)\n",
    "\n",
    "    return optimized_X, optimized_camera_rotations, optimized_camera_translation\n"
   ]
  },
  {
   "cell_type": "code",
   "execution_count": 4,
   "metadata": {},
   "outputs": [],
   "source": [
    "\n",
    "indices    = data.visibility_new[:,appended_ids[0], appended_ids[1]] == 1\n",
    "pts1, pts2 = data.points[indices, appended_ids[0]], data.points[indices, appended_ids[1]]\n",
    "E = estimateEssentialFromFundamental(estimate_fundamental_matrix(pts1, pts2), data.K)\n",
    "rotations, translations = decomposeEssentialMat(E)\n",
    "points_3d = []\n",
    "for i in range(4):\n",
    "    P1 = computeProjectionMatrix(data.K, np.identity(3), np.zeros((3,)))\n",
    "    P2 = computeProjectionMatrix(data.K, rotations[i], translations[i])\n",
    "    points_3d.append(linearTriangulation(pts1, pts2, P1, P2))\n",
    "\n",
    "X,R,C = cheiralityCondition(points_3d, rotations, translations)\n",
    "\n",
    "X_reconstructed   = np.zeros((data.points.shape[0], 3))\n",
    "reconstructed_ind = np.zeros((data.points.shape[0], 1))\n",
    "\n",
    "X_reconstructed[indices] = X\n",
    "reconstructed_ind[indices] = 1\n",
    "reconstructed_ind[(X_reconstructed[:,2] < 0)] = 0\n",
    "\n",
    "camera_rotations    = []\n",
    "camera_translations = []\n",
    "camera_rotations.append(np.eye(3))\n",
    "camera_rotations.append(R)\n",
    "camera_translations.append(np.zeros((3,)))\n",
    "camera_translations.append(C)\n"
   ]
  },
  {
   "cell_type": "code",
   "execution_count": 5,
   "metadata": {},
   "outputs": [
    {
     "data": {
      "text/plain": [
       "array([False, False, False, ..., False, False, False])"
      ]
     },
     "execution_count": 5,
     "metadata": {},
     "output_type": "execute_result"
    }
   ],
   "source": [
    "data.visibility_new[:, 1,2] == 1"
   ]
  },
  {
   "cell_type": "code",
   "execution_count": 15,
   "metadata": {},
   "outputs": [
    {
     "data": {
      "text/plain": [
       "array([[0., 0., 0.],\n",
       "       [0., 0., 0.],\n",
       "       [0., 0., 0.],\n",
       "       [0., 0., 0.],\n",
       "       [0., 0., 0.],\n",
       "       [0., 0., 0.],\n",
       "       [0., 0., 0.],\n",
       "       [0., 0., 0.],\n",
       "       [0., 0., 0.],\n",
       "       [0., 0., 0.],\n",
       "       [0., 0., 0.],\n",
       "       [0., 0., 0.],\n",
       "       [0., 0., 0.],\n",
       "       [0., 0., 0.],\n",
       "       [0., 0., 0.],\n",
       "       [0., 0., 0.],\n",
       "       [0., 0., 0.],\n",
       "       [0., 0., 0.],\n",
       "       [0., 0., 0.],\n",
       "       [0., 0., 0.],\n",
       "       [0., 0., 0.],\n",
       "       [0., 0., 0.],\n",
       "       [0., 0., 0.],\n",
       "       [0., 0., 0.],\n",
       "       [0., 0., 0.],\n",
       "       [0., 0., 0.],\n",
       "       [0., 0., 0.],\n",
       "       [0., 0., 0.],\n",
       "       [0., 0., 0.],\n",
       "       [0., 0., 0.],\n",
       "       [0., 0., 0.]])"
      ]
     },
     "execution_count": 15,
     "metadata": {},
     "output_type": "execute_result"
    }
   ],
   "source": [
    "X_reconstructed[np.logical_and((1 - reconstructed_ind)[:,0] , visibility_points)]"
   ]
  },
  {
   "cell_type": "code",
   "execution_count": 6,
   "metadata": {},
   "outputs": [
    {
     "name": "stdout",
     "output_type": "stream",
     "text": [
      "2\n",
      "(6619,)\n"
     ]
    }
   ],
   "source": [
    "for next_image in range(2, 3):\n",
    "    print(next_image)\n",
    "    visibility_points = data.visibility_new[:, appended_ids[next_image - 1], appended_ids[next_image]]\n",
    "    indices           = visibility_points == 1\n",
    "    pts1, pts2 = data.points[indices, appended_ids[next_image -1]], data.points[indices, appended_ids[next_image]]\n",
    "    E = estimateEssentialFromFundamental(estimate_fundamental_matrix(pts1, pts2), data.K)\n",
    "    rotations, translations = decomposeEssentialMat(E)\n",
    "    print(indices.shape)\n",
    "    break\n",
    "    X_new       = X_reconstructed[indices]\n",
    "    corr_points = new_points[indices]\n",
    "    R_new, C_new = DLT_PnP(corr_points, X_new, data.K)\n",
    "    camera_rotations.append(R_new)\n",
    "    camera_translations.append(C_new[:,0])\n",
    "    for previous_images in range(next_image):\n",
    "        \n",
    "        indices = np.logical_and(np.logical_and(visibility[:,appended_ids[previous_images]][...,None], \n",
    "                                                visibility[:,appended_ids[next_image]][...,None]), 1 - reconstructed_ind)[:,0]\n",
    "        pts1, pts2 = data.points[indices, appended_ids[previous_images]], data.points[indices, appended_ids[next_image]]\n",
    "        P1 = computeProjectionMatrix(data.K, camera_rotations[previous_images], camera_translations[previous_images])\n",
    "        P2 = computeProjectionMatrix(data.K, R_new, C_new)\n",
    "        points_3d = linearTriangulation(pts1, pts2, P1, P2)\n",
    "        X_reconstructed[indices]   = points_3d\n",
    "        reconstructed_ind[indices] = 1\n",
    "    \n",
    "    reconstructed_ind[(X_reconstructed[:,2] < 0)] = 0\n",
    "    X_reconstructed,camera_rotations,camera_translations = bundleAdjustment(X_reconstructed,reconstructed_ind,\n",
    "                                                                            data.points,data.visibility,camera_rotations,\n",
    "                                                                            camera_translations, data.K, next_image +1, appended_ids)\n",
    "    \n",
    "\n",
    "    "
   ]
  },
  {
   "cell_type": "code",
   "execution_count": null,
   "metadata": {},
   "outputs": [],
   "source": [
    "import numpy as np\n",
    "\n",
    "\n",
    "def ProjectionMatrix(R,C,K):\n",
    "    C = np.reshape(C, (3, 1))        \n",
    "    I = np.identity(3)\n",
    "    P = np.dot(K, np.dot(R, np.hstack((I, -C))))\n",
    "    return P\n",
    "\n",
    "def Lin_tri(K, C1, R1, C2, R2, x1, x2):\n",
    "\n",
    "    I = np.identity(3)\n",
    "    C1 = np.reshape(C1, (3, 1))\n",
    "    C2 = np.reshape(C2, (3, 1))\n",
    "\n",
    "    P1 = np.dot(K, np.dot(R1, np.hstack((I, -C1))))\n",
    "    P2 = np.dot(K, np.dot(R2, np.hstack((I, -C2))))\n",
    "\n",
    "    print(P1, P2)\n",
    "    p1T = P1[0,:].reshape(1,4)\n",
    "    p2T = P1[1,:].reshape(1,4)\n",
    "    p3T = P1[2,:].reshape(1,4)\n",
    "\n",
    "    p_dash_1T = P2[0,:].reshape(1,4)\n",
    "    p_dash_2T = P2[1,:].reshape(1,4)\n",
    "    p_dash_3T = P2[2,:].reshape(1,4)\n",
    "\n",
    "    all_X = []\n",
    "    for i in range(x1.shape[0]):\n",
    "        x = x1[i,0]\n",
    "        y = x1[i,1]\n",
    "        x_dash = x2[i,0]\n",
    "        y_dash = x2[i,1]\n",
    "\n",
    "\n",
    "        A = []\n",
    "        A.append((y * p3T) -  p2T)\n",
    "        A.append(p1T -  (x * p3T))\n",
    "        A.append((y_dash * p_dash_3T) -  p_dash_2T)\n",
    "        A.append(p_dash_1T -  (x_dash * p_dash_3T))\n",
    "\n",
    "        A = np.array(A).reshape(4,4)\n",
    "        _, _, vt = np.linalg.svd(A)\n",
    "        v = vt.T\n",
    "        x = v[:,-1]\n",
    "        \n",
    "        all_X.append(x)\n",
    "    return np.array(all_X)\n",
    "\n",
    "def PnPError(x, X, R, C, K):\n",
    "    u,v = x\n",
    "    X = to_homogeneous(X.reshape(1,-1)).reshape(-1,1) # make X it a column of homogenous vector\n",
    "    C = C.reshape(-1, 1)\n",
    "    P = ProjectionMatrix(R,C,K)\n",
    "    p1, p2, p3 = P\n",
    "        \n",
    "    u_proj = np.divide(p1.dot(X) , p3.dot(X))\n",
    "    v_proj =  np.divide(p2.dot(X) , p3.dot(X))\n",
    "\n",
    "    x_proj = np.hstack((u_proj, v_proj))\n",
    "    x = np.hstack((u, v))\n",
    "    e = np.linalg.norm(x - x_proj)\n",
    "#     e = np.sqrt(np.square(u - u_proj) + np.square(v - v_proj))\n",
    "    return  e\n",
    "\n",
    "def PnPRANSAC(K, features, x3D, n_iterations = 1000, error_thresh = 5):\n",
    "\n",
    "    inliers_thresh = 0\n",
    "    chosen_indices = []\n",
    "    chosen_R, chosen_t = None, None\n",
    "    n_rows = x3D.shape[0]\n",
    "    \n",
    "    for i in range(0, n_iterations):\n",
    "        \n",
    "        #select 6 points randomly\n",
    "        random_indices = np.random.choice(n_rows, size=6)\n",
    "        X_set, x_set = x3D[random_indices], features[random_indices]\n",
    "        \n",
    "        R,C = PnP(X_set, x_set, K)\n",
    "        \n",
    "        indices = []\n",
    "        errors = []\n",
    "        if R is not None:\n",
    "            for j in range(n_rows):\n",
    "                feature = features[j]\n",
    "                X = x3D[j]\n",
    "                error = PnPError(feature, X, R, C, K)\n",
    "\n",
    "                if error < error_thresh:\n",
    "                    indices.append(j)\n",
    "                    \n",
    "        if len(indices) > inliers_thresh:\n",
    "            inliers_thresh = len(indices)\n",
    "            chosen_indices = indices\n",
    "            chosen_R = R\n",
    "            chosen_t = C\n",
    "            \n",
    "    #     filtered_features = features[chosen_indices, :]\n",
    "    return chosen_R, chosen_t\n",
    "\n",
    "\n",
    "def reprojectionErrorPnP(x3D, pts, K, R, C):\n",
    "    P = ProjectionMatrix(R,C,K)\n",
    "    \n",
    "    Error = []\n",
    "    for X, pt in zip(x3D, pts):\n",
    "\n",
    "        p_1T, p_2T, p_3T = P# rows of P\n",
    "        p_1T, p_2T, p_3T = p_1T.reshape(1,-1), p_2T.reshape(1,-1), p_3T.reshape(1,-1)\n",
    "        X = to_homogeneous(X.reshape(1,-1)).reshape(-1,1) # make X it a column of homogenous vector\n",
    "        ## reprojection error for reference camera points \n",
    "        u, v = pt[0], pt[1]\n",
    "        u_proj = np.divide(p_1T.dot(X) , p_3T.dot(X))\n",
    "        v_proj =  np.divide(p_2T.dot(X) , p_3T.dot(X))\n",
    "\n",
    "        E = np.square(v - v_proj) + np.square(u - u_proj)\n",
    "\n",
    "        Error.append(E)\n",
    "\n",
    "    mean_error = np.mean(np.array(Error).squeeze())\n",
    "    return mean_error\n",
    "\n",
    "def PnP(X_set, x_set, K):\n",
    "    N = X_set.shape[0]\n",
    "    \n",
    "    X_4 = to_homogeneous(X_set)\n",
    "    x_3 = to_homogeneous(x_set)\n",
    "    \n",
    "    # normalize x\n",
    "    K_inv = np.linalg.inv(K)\n",
    "    x_n = K_inv.dot(x_3.T).T\n",
    "    \n",
    "    for i in range(N):\n",
    "        X = X_4[i].reshape((1, 4))\n",
    "        zeros = np.zeros((1, 4))\n",
    "        \n",
    "        u, v, _ = x_n[i]\n",
    "        \n",
    "        u_cross = np.array([[0, -1, v],\n",
    "                            [1,  0 , -u],\n",
    "                            [-v, u, 0]])\n",
    "        X_tilde = np.vstack((np.hstack((   X, zeros, zeros)), \n",
    "                            np.hstack((zeros,     X, zeros)), \n",
    "                            np.hstack((zeros, zeros,     X))))\n",
    "        a = u_cross.dot(X_tilde)\n",
    "        \n",
    "        if i > 0:\n",
    "            A = np.vstack((A, a))\n",
    "        else:\n",
    "            A = a\n",
    "            \n",
    "    _, _, VT = np.linalg.svd(A)\n",
    "    P = VT[-1].reshape((3, 4))\n",
    "    R = P[:, :3]\n",
    "    U_r, D, V_rT = np.linalg.svd(R) # to enforce Orthonormality\n",
    "    R = U_r.dot(V_rT)\n",
    "    \n",
    "    C = P[:, 3]\n",
    "    C = - np.linalg.inv(R).dot(C)\n",
    "    \n",
    "    if np.linalg.det(R) < 0:\n",
    "        R = -R\n",
    "        C = -C\n",
    "        \n",
    "    return R, C"
   ]
  },
  {
   "cell_type": "code",
   "execution_count": null,
   "metadata": {},
   "outputs": [],
   "source": [
    "np.logical_and(data.visibility[:,37], data.visibility[:,40]).sum()"
   ]
  },
  {
   "cell_type": "code",
   "execution_count": null,
   "metadata": {},
   "outputs": [],
   "source": [
    "import  struct\n",
    "def write_pointcloud(filename,xyz_points,rgb_points=None):\n",
    "\n",
    "    \"\"\" creates a .pkl file of the point clouds generated\n",
    "    \"\"\"\n",
    "\n",
    "    assert xyz_points.shape[1] == 3,'Input XYZ points should be Nx3 float array'\n",
    "    if rgb_points is None:\n",
    "        rgb_points = np.ones(xyz_points.shape).astype(np.uint8)*255\n",
    "    assert xyz_points.shape == rgb_points.shape,'Input RGB colors should be Nx3 float array and have same size as input XYZ points'\n",
    "\n",
    "    # Write header of .ply file\n",
    "    fid = open(filename,'wb')\n",
    "    fid.write(bytes('ply\\n', 'utf-8'))\n",
    "    fid.write(bytes('format binary_little_endian 1.0\\n', 'utf-8'))\n",
    "    fid.write(bytes('element vertex %d\\n'%xyz_points.shape[0], 'utf-8'))\n",
    "    fid.write(bytes('property float x\\n', 'utf-8'))\n",
    "    fid.write(bytes('property float y\\n', 'utf-8'))\n",
    "    fid.write(bytes('property float z\\n', 'utf-8'))\n",
    "    fid.write(bytes('property uchar red\\n', 'utf-8'))\n",
    "    fid.write(bytes('property uchar green\\n', 'utf-8'))\n",
    "    fid.write(bytes('property uchar blue\\n', 'utf-8'))\n",
    "    fid.write(bytes('end_header\\n', 'utf-8'))\n",
    "\n",
    "    # Write 3D points to .ply file\n",
    "    for i in range(xyz_points.shape[0]):\n",
    "        fid.write(bytearray(struct.pack(\"fffccc\",xyz_points[i,0],xyz_points[i,1],xyz_points[i,2],\n",
    "                                        rgb_points[i,0].tostring(),rgb_points[i,1].tostring(),\n",
    "                                        rgb_points[i,2].tostring())))\n",
    "    fid.close()\n"
   ]
  },
  {
   "cell_type": "code",
   "execution_count": null,
   "metadata": {},
   "outputs": [],
   "source": [
    "X = X_reconstructed[(reconstructed_ind == 1)[...,0]]\n",
    "c = data.colors[(reconstructed_ind == 1)[...,0]]"
   ]
  },
  {
   "cell_type": "code",
   "execution_count": null,
   "metadata": {},
   "outputs": [],
   "source": [
    "write_pointcloud(\"initial_attempt.ply\", X, c)"
   ]
  },
  {
   "cell_type": "code",
   "execution_count": null,
   "metadata": {},
   "outputs": [],
   "source": [
    "R,t = PnPRANSAC(data.K, corr_points, X_new)"
   ]
  },
  {
   "cell_type": "code",
   "execution_count": null,
   "metadata": {},
   "outputs": [],
   "source": [
    "indices = (visibility[:,37, 40] == 1)\n",
    "print(indices.sum())\n",
    "pts1, pts2 = data.points[indices, 37], data.points[indices, 40]\n",
    "    "
   ]
  },
  {
   "cell_type": "code",
   "execution_count": null,
   "metadata": {},
   "outputs": [],
   "source": [
    "pts1"
   ]
  },
  {
   "cell_type": "code",
   "execution_count": null,
   "metadata": {},
   "outputs": [],
   "source": [
    "pts2"
   ]
  },
  {
   "cell_type": "code",
   "execution_count": null,
   "metadata": {},
   "outputs": [],
   "source": [
    "np.logical_and(visibility[:,appended_ids[0]][...,None], visibility[:,appended_ids[2]][...,None]).sum()"
   ]
  },
  {
   "cell_type": "code",
   "execution_count": null,
   "metadata": {},
   "outputs": [],
   "source": [
    "np.unique(data.points[:,37], axis = 0)"
   ]
  },
  {
   "cell_type": "code",
   "execution_count": null,
   "metadata": {},
   "outputs": [],
   "source": [
    "computeProjectionMatrix(data.K,R,C)"
   ]
  },
  {
   "cell_type": "code",
   "execution_count": null,
   "metadata": {},
   "outputs": [],
   "source": [
    "def test(pts1, pts2, projection_matrix1, projection_matrix2):\n",
    "\n",
    "    x_prime = to_homogeneous(pts1)\n",
    "    x       = to_homogeneous(pts2)\n",
    "    cross_prime = skew_symmetric_matrix(x_prime)\n",
    "    cross_x     = skew_symmetric_matrix(x)\n",
    "    \n",
    "    constraint_x_prime = np.einsum(\"bij,jk->bik\", cross_prime, projection_matrix1)\n",
    "    constraint_x       = np.einsum(\"bij,jk->bik\", cross_x, projection_matrix2)\n",
    "    constraints = np.concatenate([constraint_x_prime[:,:2,:], constraint_x[:,:2,:]], axis = 1)\n",
    "    U,S,V = np.linalg.svd(constraints)\n",
    "    points_3d = V[:,-1] \n",
    "    \n",
    "    return points_3d,constraints"
   ]
  },
  {
   "cell_type": "code",
   "execution_count": null,
   "metadata": {},
   "outputs": [],
   "source": [
    "q, A = test(pts1, pts2, P1, computeProjectionMatrix(data.K,R,C))"
   ]
  },
  {
   "cell_type": "code",
   "execution_count": null,
   "metadata": {},
   "outputs": [],
   "source": [
    "(new / new[:,3][...,None]).min()"
   ]
  },
  {
   "cell_type": "code",
   "execution_count": null,
   "metadata": {},
   "outputs": [],
   "source": [
    "new = Lin_tri(data.K, camera_translations[0], camera_rotations[0], C,R,pts1, pts2)\n"
   ]
  },
  {
   "cell_type": "code",
   "execution_count": null,
   "metadata": {},
   "outputs": [],
   "source": [
    "q == new"
   ]
  },
  {
   "cell_type": "code",
   "execution_count": null,
   "metadata": {},
   "outputs": [],
   "source": [
    "def PM(K,R,C):\n",
    "\n",
    "    C = np.reshape(C, (3, 1))        \n",
    "    I = np.identity(3)\n",
    "    P = np.dot(K, np.dot(R, np.hstack((I, -C))))\n",
    "\n",
    "    return P\n"
   ]
  },
  {
   "cell_type": "code",
   "execution_count": null,
   "metadata": {},
   "outputs": [],
   "source": [
    "computeProjectionMatrix(data.K, R,C)"
   ]
  },
  {
   "cell_type": "code",
   "execution_count": null,
   "metadata": {},
   "outputs": [],
   "source": [
    "PM(data.K, R,C)"
   ]
  },
  {
   "cell_type": "code",
   "execution_count": null,
   "metadata": {},
   "outputs": [],
   "source": [
    "ProjectionMatrix(R,C,data.K)"
   ]
  },
  {
   "cell_type": "code",
   "execution_count": null,
   "metadata": {},
   "outputs": [],
   "source": [
    "import scipy.optimize as optimize\n",
    "def NonLinearTriangulation(K, pts1, pts2, x3D, R1, C1, R2, C2):\n",
    "    \"\"\"    \n",
    "    K : Camera Matrix\n",
    "    pts1, pts2 : Point Correspondences\n",
    "    x3D :  initial 3D point \n",
    "    R2, C2 : relative camera pose\n",
    "    Returns:\n",
    "        x3D : optimized 3D points\n",
    "    \"\"\"\n",
    "    \n",
    "    P1 = ProjectionMatrix(R1,C1,K) \n",
    "    P2 = ProjectionMatrix(R2,C2,K)\n",
    "    # pts1, pts2, x3D = pts1, pts2, x3D\n",
    "    \n",
    "    if pts1.shape[0] != pts2.shape[0] != x3D.shape[0]:\n",
    "        raise 'Check point dimensions - level nlt'\n",
    "\n",
    "    x3D_ = []\n",
    "    for i in range(len(x3D)):\n",
    "        optimized_params = optimize.least_squares(fun=ReprojectionLoss, x0=x3D[i], method=\"trf\", args=[pts1[i], pts2[i], P1, P2])\n",
    "        X1 = optimized_params.x\n",
    "        x3D_.append(X1)\n",
    "        # x3D_.append(X1[:3])\n",
    "    return np.array(x3D_)\n",
    "\n",
    "\n",
    "def ReprojectionLoss(X, pts1, pts2, P1, P2):\n",
    "    \n",
    "    # X = homo(X.reshape(1,-1)).reshape(-1,1) # make X a column of homogenous vector\n",
    "    \n",
    "    p1_1T, p1_2T, p1_3T = P1 # rows of P1\n",
    "    p1_1T, p1_2T, p1_3T = p1_1T.reshape(1,-1), p1_2T.reshape(1,-1),p1_3T.reshape(1,-1)\n",
    "\n",
    "    p2_1T, p2_2T, p2_3T = P2 # rows of P2\n",
    "    p2_1T, p2_2T, p2_3T = p2_1T.reshape(1,-1), p2_2T.reshape(1,-1), p2_3T.reshape(1,-1)\n",
    "\n",
    "    ## reprojection error for reference camera points - j = 1\n",
    "    u1,v1 = pts1[0], pts1[1]\n",
    "    u1_proj = np.divide(p1_1T.dot(X) , p1_3T.dot(X))\n",
    "    v1_proj =  np.divide(p1_2T.dot(X) , p1_3T.dot(X))\n",
    "    E1= np.square(v1 - v1_proj) + np.square(u1 - u1_proj)\n",
    "\n",
    "    \n",
    "    ## reprojection error for second camera points - j = 2    \n",
    "    u2,v2 = pts2[0], pts2[1]\n",
    "    u2_proj = np.divide(p2_1T.dot(X) , p2_3T.dot(X))\n",
    "    v2_proj =  np.divide(p2_2T.dot(X) , p2_3T.dot(X))    \n",
    "    E2= np.square(v2 - v2_proj) + np.square(u2 - u2_proj)\n",
    "    \n",
    "    error = E1 + E2\n",
    "    return error.squeeze()"
   ]
  },
  {
   "cell_type": "code",
   "execution_count": null,
   "metadata": {},
   "outputs": [],
   "source": [
    "new = new / new[:,3][...,None]"
   ]
  },
  {
   "cell_type": "code",
   "execution_count": null,
   "metadata": {},
   "outputs": [],
   "source": [
    "X = NonLinearTriangulation(data.K,pts1, pts2, new,camera_rotations[0], camera_translations[0], R,C )"
   ]
  },
  {
   "cell_type": "code",
   "execution_count": null,
   "metadata": {},
   "outputs": [],
   "source": [
    "(X/X[:,3].reshape(-1,1)).min()"
   ]
  },
  {
   "cell_type": "code",
   "execution_count": null,
   "metadata": {},
   "outputs": [],
   "source": [
    "import scipy.optimize as optimize\n",
    "import numpy as np\n",
    "\n",
    "def NonLinearPnP(K, pts, x3D, R0, C0):\n",
    "    \"\"\"    \n",
    "    K : Camera Matrix\n",
    "    pts1, pts2 : Point Correspondences\n",
    "    x3D :  initial 3D point \n",
    "    R2, C2 : relative camera pose - estimated from PnP\n",
    "    Returns:\n",
    "        x3D : optimized 3D points\n",
    "    \"\"\"\n",
    "\n",
    "    Q = Rotation.from_matrix(R0).as_quat()\n",
    "    X0 = [Q[0] ,Q[1],Q[2],Q[3], C0[0], C0[1], C0[2]] \n",
    "\n",
    "    optimized_params = optimize.least_squares(\n",
    "        fun = PnPLoss,\n",
    "        x0=X0,\n",
    "        method=\"trf\",\n",
    "        args=[x3D, pts, K])\n",
    "    X1 = optimized_params.x\n",
    "    Q = X1[:4]\n",
    "    C = X1[4:]\n",
    "    R = Rotation.from_quat(Q).as_matrix()\n",
    "    return R, C\n",
    "\n",
    "def PnPLoss(X0, x3D, pts, K):\n",
    "    \n",
    "    Q, C = X0[:4], X0[4:].reshape(-1,1)\n",
    "    R = Rotation.from_quat(Q).as_matrix()\n",
    "    P = computeProjectionMatrix(K,R,C)\n",
    "    \n",
    "    Error = []\n",
    "    for X, pt in zip(x3D, pts):\n",
    "\n",
    "        p_1T, p_2T, p_3T = P# rows of P\n",
    "        p_1T, p_2T, p_3T = p_1T.reshape(1,-1), p_2T.reshape(1,-1), p_3T.reshape(1,-1)\n",
    "\n",
    "\n",
    "        X = to_homogeneous(X.reshape(1,-1)).reshape(-1,1) # make X it a column of homogenous vector\n",
    "        ## reprojection error for reference camera points \n",
    "        u, v = pt[0], pt[1]\n",
    "        u_proj = np.divide(p_1T.dot(X) , p_3T.dot(X))\n",
    "        v_proj =  np.divide(p_2T.dot(X) , p_3T.dot(X))\n",
    "\n",
    "        E = np.square(v - v_proj) + np.square(u - u_proj)\n",
    "\n",
    "        Error.append(E)\n",
    "\n",
    "    sumError = np.mean(np.array(Error).squeeze())\n",
    "    return sumError"
   ]
  },
  {
   "cell_type": "code",
   "execution_count": null,
   "metadata": {},
   "outputs": [],
   "source": [
    "R,C = DLT_PnP(corr_points, X_new, data.K)"
   ]
  },
  {
   "cell_type": "code",
   "execution_count": null,
   "metadata": {},
   "outputs": [],
   "source": [
    "R"
   ]
  },
  {
   "cell_type": "code",
   "execution_count": null,
   "metadata": {},
   "outputs": [],
   "source": [
    "C"
   ]
  },
  {
   "cell_type": "code",
   "execution_count": null,
   "metadata": {},
   "outputs": [],
   "source": [
    "Rn,Cn = NonLinearPnP(data.K, corr_points, X_new, R,C)"
   ]
  },
  {
   "cell_type": "code",
   "execution_count": null,
   "metadata": {},
   "outputs": [],
   "source": [
    "Rn"
   ]
  },
  {
   "cell_type": "code",
   "execution_count": null,
   "metadata": {},
   "outputs": [],
   "source": [
    "Cn"
   ]
  },
  {
   "cell_type": "code",
   "execution_count": null,
   "metadata": {},
   "outputs": [],
   "source": [
    "R"
   ]
  },
  {
   "cell_type": "code",
   "execution_count": null,
   "metadata": {},
   "outputs": [],
   "source": [
    "C"
   ]
  },
  {
   "cell_type": "code",
   "execution_count": null,
   "metadata": {},
   "outputs": [],
   "source": [
    "X = linearTriangulation(pts1, pts2)"
   ]
  },
  {
   "cell_type": "code",
   "execution_count": null,
   "metadata": {},
   "outputs": [],
   "source": [
    "pts1.shape"
   ]
  },
  {
   "cell_type": "code",
   "execution_count": null,
   "metadata": {},
   "outputs": [],
   "source": [
    "pts2.shape"
   ]
  },
  {
   "cell_type": "code",
   "execution_count": null,
   "metadata": {},
   "outputs": [],
   "source": [
    "pts1"
   ]
  },
  {
   "cell_type": "code",
   "execution_count": null,
   "metadata": {},
   "outputs": [],
   "source": [
    "appended_ids[:3]"
   ]
  },
  {
   "cell_type": "code",
   "execution_count": null,
   "metadata": {},
   "outputs": [],
   "source": [
    "images_to_add[:3]"
   ]
  },
  {
   "cell_type": "code",
   "execution_count": null,
   "metadata": {},
   "outputs": [],
   "source": [
    "appended_ids"
   ]
  },
  {
   "cell_type": "code",
   "execution_count": null,
   "metadata": {},
   "outputs": [],
   "source": [
    "images_to_add"
   ]
  },
  {
   "cell_type": "code",
   "execution_count": null,
   "metadata": {},
   "outputs": [],
   "source": [
    "pts2"
   ]
  },
  {
   "cell_type": "code",
   "execution_count": null,
   "metadata": {},
   "outputs": [],
   "source": []
  }
 ],
 "metadata": {
  "kernelspec": {
   "display_name": "dl_pytorch",
   "language": "python",
   "name": "python3"
  },
  "language_info": {
   "codemirror_mode": {
    "name": "ipython",
    "version": 3
   },
   "file_extension": ".py",
   "mimetype": "text/x-python",
   "name": "python",
   "nbconvert_exporter": "python",
   "pygments_lexer": "ipython3",
   "version": "3.8.0"
  }
 },
 "nbformat": 4,
 "nbformat_minor": 2
}
